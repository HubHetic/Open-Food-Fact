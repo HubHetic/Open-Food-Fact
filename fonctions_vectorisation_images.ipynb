{
  "nbformat": 4,
  "nbformat_minor": 0,
  "metadata": {
    "colab": {
      "name": "fonctions_vectorisation_images.ipynb",
      "provenance": [],
      "collapsed_sections": [],
      "toc_visible": true
    },
    "kernelspec": {
      "name": "python3",
      "display_name": "Python 3"
    },
    "language_info": {
      "name": "python"
    }
  },
  "cells": [
    {
      "cell_type": "code",
      "metadata": {
        "id": "fqbqn1pd2V_O"
      },
      "source": [
        "import os\n",
        "os.environ[\"CUDA_DEVICE_ORDER\"]=\"PCI_BUS_ID\"\n",
        "os.environ[\"CUDA_VISIBLE_DEVICES\"]=\"1\" "
      ],
      "execution_count": 131,
      "outputs": []
    },
    {
      "cell_type": "code",
      "metadata": {
        "id": "9FjlR0wr-ePQ"
      },
      "source": [
        "import keras\n",
        "from matplotlib import pyplot as plt\n",
        "import numpy as np\n",
        "import gzip\n",
        "%matplotlib inline\n",
        "from keras.layers import Input,Conv2D,MaxPooling2D,UpSampling2D\n",
        "from keras.models import Model\n",
        "from keras.optimizers import RMSprop\n",
        "\n",
        "from tensorflow.keras.preprocessing import image\n",
        "from tensorflow.keras.applications.vgg16 import preprocess_input,decode_predictions"
      ],
      "execution_count": 132,
      "outputs": []
    },
    {
      "cell_type": "code",
      "metadata": {
        "id": "VEhh2zVLbyee"
      },
      "source": [
        "from pydrive.auth import GoogleAuth\n",
        "from pydrive.drive import GoogleDrive\n",
        "from google.colab import auth\n",
        "from oauth2client.client import GoogleCredentials"
      ],
      "execution_count": 133,
      "outputs": []
    },
    {
      "cell_type": "code",
      "metadata": {
        "id": "isXISKCFb1Q_"
      },
      "source": [
        "auth.authenticate_user()\n",
        "gauth = GoogleAuth()\n",
        "gauth.credentials = GoogleCredentials.get_application_default()\n",
        "drive = GoogleDrive(gauth)"
      ],
      "execution_count": 134,
      "outputs": []
    },
    {
      "cell_type": "code",
      "metadata": {
        "id": "yP54fCqycItH"
      },
      "source": [
        "bin_path = '/content/photos_produits/'"
      ],
      "execution_count": 135,
      "outputs": []
    },
    {
      "cell_type": "code",
      "metadata": {
        "colab": {
          "base_uri": "https://localhost:8080/"
        },
        "id": "F-UreILRdEnq",
        "outputId": "9bd4509c-5ad5-42a5-d75c-124c5fe44ede"
      },
      "source": [
        "os.chdir('/content/photos_produits/')\n",
        "print(f\"The current working directory: {os.getcwd()} \")"
      ],
      "execution_count": 136,
      "outputs": [
        {
          "output_type": "stream",
          "text": [
            "The current working directory: /content/photos_produits \n"
          ],
          "name": "stdout"
        }
      ]
    },
    {
      "cell_type": "code",
      "metadata": {
        "id": "UXR5axPmneLh"
      },
      "source": [
        "# Import et transformation des images en np array\n",
        "# Converts a PIL Image to 3D Numy Array\n",
        "# Adding the fouth dimension, for number of images\n",
        "# mean centering with respect to Image\n",
        "\n",
        "def import_process_img(bin_path):\n",
        "  liste_img_prep = []\n",
        "  SIZE = (224, 224)\n",
        "\n",
        "  for img in os.listdir(bin_path):\n",
        "      if img[-1] == 'g':  # assure qu'on traite bien un jpg ou png\n",
        "        img = image.load_img(img, color_mode='rgb', target_size=SIZE)\n",
        "\n",
        "        img = image.img_to_array(img)\n",
        "\n",
        "        img = np.expand_dims(img, axis=0)\n",
        "\n",
        "        img_prep = preprocess_input(img)\n",
        "\n",
        "        liste_img_prep.append(img_prep)\n",
        "\n",
        "  return liste_img_prep\n"
      ],
      "execution_count": 137,
      "outputs": []
    },
    {
      "cell_type": "code",
      "metadata": {
        "id": "IPrcyM-Enqt8",
        "colab": {
          "base_uri": "https://localhost:8080/"
        },
        "outputId": "737d4ad8-ef16-4399-d371-6221a188e3a0"
      },
      "source": [
        "liste_test = import_process_img(bin_path)\n",
        "liste_test[0].shape"
      ],
      "execution_count": 138,
      "outputs": [
        {
          "output_type": "execute_result",
          "data": {
            "text/plain": [
              "(1, 224, 224, 3)"
            ]
          },
          "metadata": {
            "tags": []
          },
          "execution_count": 138
        }
      ]
    },
    {
      "cell_type": "code",
      "metadata": {
        "id": "V5UDNg_kMSM5",
        "colab": {
          "base_uri": "https://localhost:8080/"
        },
        "outputId": "493f49de-f1ad-4d32-83f7-a33ae16b1ae3"
      },
      "source": [
        "# On utilise un modèle VGG 16 pré entraîné\n",
        "\n",
        "from keras.applications.vgg16 import VGG16\n",
        "model = VGG16(weights='imagenet')\n",
        "print(model.summary())"
      ],
      "execution_count": 139,
      "outputs": [
        {
          "output_type": "stream",
          "text": [
            "Model: \"vgg16\"\n",
            "_________________________________________________________________\n",
            "Layer (type)                 Output Shape              Param #   \n",
            "=================================================================\n",
            "input_6 (InputLayer)         [(None, 224, 224, 3)]     0         \n",
            "_________________________________________________________________\n",
            "block1_conv1 (Conv2D)        (None, 224, 224, 64)      1792      \n",
            "_________________________________________________________________\n",
            "block1_conv2 (Conv2D)        (None, 224, 224, 64)      36928     \n",
            "_________________________________________________________________\n",
            "block1_pool (MaxPooling2D)   (None, 112, 112, 64)      0         \n",
            "_________________________________________________________________\n",
            "block2_conv1 (Conv2D)        (None, 112, 112, 128)     73856     \n",
            "_________________________________________________________________\n",
            "block2_conv2 (Conv2D)        (None, 112, 112, 128)     147584    \n",
            "_________________________________________________________________\n",
            "block2_pool (MaxPooling2D)   (None, 56, 56, 128)       0         \n",
            "_________________________________________________________________\n",
            "block3_conv1 (Conv2D)        (None, 56, 56, 256)       295168    \n",
            "_________________________________________________________________\n",
            "block3_conv2 (Conv2D)        (None, 56, 56, 256)       590080    \n",
            "_________________________________________________________________\n",
            "block3_conv3 (Conv2D)        (None, 56, 56, 256)       590080    \n",
            "_________________________________________________________________\n",
            "block3_pool (MaxPooling2D)   (None, 28, 28, 256)       0         \n",
            "_________________________________________________________________\n",
            "block4_conv1 (Conv2D)        (None, 28, 28, 512)       1180160   \n",
            "_________________________________________________________________\n",
            "block4_conv2 (Conv2D)        (None, 28, 28, 512)       2359808   \n",
            "_________________________________________________________________\n",
            "block4_conv3 (Conv2D)        (None, 28, 28, 512)       2359808   \n",
            "_________________________________________________________________\n",
            "block4_pool (MaxPooling2D)   (None, 14, 14, 512)       0         \n",
            "_________________________________________________________________\n",
            "block5_conv1 (Conv2D)        (None, 14, 14, 512)       2359808   \n",
            "_________________________________________________________________\n",
            "block5_conv2 (Conv2D)        (None, 14, 14, 512)       2359808   \n",
            "_________________________________________________________________\n",
            "block5_conv3 (Conv2D)        (None, 14, 14, 512)       2359808   \n",
            "_________________________________________________________________\n",
            "block5_pool (MaxPooling2D)   (None, 7, 7, 512)         0         \n",
            "_________________________________________________________________\n",
            "flatten (Flatten)            (None, 25088)             0         \n",
            "_________________________________________________________________\n",
            "fc1 (Dense)                  (None, 4096)              102764544 \n",
            "_________________________________________________________________\n",
            "fc2 (Dense)                  (None, 4096)              16781312  \n",
            "_________________________________________________________________\n",
            "predictions (Dense)          (None, 1000)              4097000   \n",
            "=================================================================\n",
            "Total params: 138,357,544\n",
            "Trainable params: 138,357,544\n",
            "Non-trainable params: 0\n",
            "_________________________________________________________________\n",
            "None\n"
          ],
          "name": "stdout"
        }
      ]
    },
    {
      "cell_type": "code",
      "metadata": {
        "id": "remtAW7sXOsK"
      },
      "source": [
        "from keras import backend as K"
      ],
      "execution_count": 140,
      "outputs": []
    },
    {
      "cell_type": "code",
      "metadata": {
        "id": "38tHIIrZqFLm"
      },
      "source": [
        "# Avec K.function on fait passer nos images dans le modèle\n",
        "# on enregistre les informations de la couche flatten pour chaque image \n",
        "# dans liste_images\n",
        "\n",
        "def vectorisation_image(liste_images):\n",
        "  liste_vecteurs = []\n",
        "  func = K.function([model.input], [model.layers[-4].output])\n",
        "\n",
        "  for img in liste_images:\n",
        "    liste_vecteurs.append(func(img))\n",
        "  \n",
        "  return liste_vecteurs"
      ],
      "execution_count": 141,
      "outputs": []
    },
    {
      "cell_type": "code",
      "metadata": {
        "id": "YN5DMs4dqtmU"
      },
      "source": [
        "vecteurs = vectorisation_image(liste_test)"
      ],
      "execution_count": 142,
      "outputs": []
    },
    {
      "cell_type": "code",
      "metadata": {
        "colab": {
          "base_uri": "https://localhost:8080/"
        },
        "id": "MtskUjWF4hVz",
        "outputId": "9a2864c6-7c0d-4d37-c11c-715ec2110805"
      },
      "source": [
        "len(vecteurs)"
      ],
      "execution_count": 165,
      "outputs": [
        {
          "output_type": "execute_result",
          "data": {
            "text/plain": [
              "13"
            ]
          },
          "metadata": {
            "tags": []
          },
          "execution_count": 165
        }
      ]
    },
    {
      "cell_type": "code",
      "metadata": {
        "id": "aNYn-ZaVq6DR",
        "colab": {
          "base_uri": "https://localhost:8080/",
          "height": 35
        },
        "outputId": "28351eed-74e5-4c11-f8f7-428577984d38"
      },
      "source": [
        "display(vecteurs[0][0].shape)"
      ],
      "execution_count": 143,
      "outputs": [
        {
          "output_type": "display_data",
          "data": {
            "text/plain": [
              "(1, 25088)"
            ]
          },
          "metadata": {
            "tags": []
          }
        }
      ]
    },
    {
      "cell_type": "code",
      "metadata": {
        "colab": {
          "base_uri": "https://localhost:8080/"
        },
        "id": "HzXSq_gc4zpx",
        "outputId": "5cd3406d-67c8-46e4-9f66-1f3623cf9a11"
      },
      "source": [
        "pictures = [file for file in os.listdir(bin_path) if file.endswith(('jpg', 'png' ))]\n",
        "print(type(pictures))"
      ],
      "execution_count": 172,
      "outputs": [
        {
          "output_type": "stream",
          "text": [
            "<class 'list'>\n"
          ],
          "name": "stdout"
        }
      ]
    },
    {
      "cell_type": "code",
      "metadata": {
        "id": "fLtpplyyxNOW"
      },
      "source": [
        "# Renvoie un tuple contenant l'id des images et leurs vecteurs associés \n",
        "# bin_path est le chemin du dossier où les images sont stockées\n",
        "# vecteurs est une liste de np array des images vectorisées\n",
        "# on part du principe qu'on exécute les images dans l'ordre , à garder en tête\n",
        "\n",
        "def zip_id_vecteur(vecteurs, bin_path):\n",
        "  pictures = [file for file in os.listdir(bin_path) if file.endswith(('jpg', 'png' ))]\n",
        "\n",
        "  df = list(zip(pictures, vecteurs))\n",
        "  \n",
        "  return df"
      ],
      "execution_count": 173,
      "outputs": []
    },
    {
      "cell_type": "code",
      "metadata": {
        "id": "yFEysu4FzrJs"
      },
      "source": [
        "id_vecteurs = zip_id_vecteur(vecteurs, bin_path)"
      ],
      "execution_count": 174,
      "outputs": []
    },
    {
      "cell_type": "code",
      "metadata": {
        "colab": {
          "base_uri": "https://localhost:8080/"
        },
        "id": "tXRP_CD42Vkn",
        "outputId": "50f22488-fc67-4a6a-b2bf-e9c0dff6a83e"
      },
      "source": [
        "print(id_vecteurs)"
      ],
      "execution_count": 175,
      "outputs": [
        {
          "output_type": "stream",
          "text": [
            "[('00658034.jpg', [array([[ 0.       ,  0.       ,  0.       , ..., 11.126054 ,  0.7029545,\n",
            "         0.       ]], dtype=float32)]), ('00660709.jpg', [array([[0.        , 4.818705  , 0.        , ..., 0.76157254, 0.        ,\n",
            "        0.        ]], dtype=float32)]), ('573595.jpg', [array([[0.       , 0.       , 0.       , ..., 0.       , 5.2320356,\n",
            "        0.       ]], dtype=float32)]), ('00657181.jpg', [array([[0., 0., 0., ..., 0., 0., 0.]], dtype=float32)]), ('00660396.jpg', [array([[0.        , 0.        , 0.02093965, ..., 0.        , 0.        ,\n",
            "        0.        ]], dtype=float32)]), ('415660.jpg', [array([[0.       , 0.       , 0.       , ..., 3.1109273, 0.       ,\n",
            "        0.       ]], dtype=float32)]), ('074331.jpg', [array([[0., 0., 0., ..., 0., 0., 0.]], dtype=float32)]), ('074332.jpg', [array([[0., 0., 0., ..., 0., 0., 0.]], dtype=float32)]), ('152190.jpg', [array([[0.       , 0.       , 0.       , ..., 0.       , 7.8705616,\n",
            "        0.       ]], dtype=float32)]), ('00657501.jpg', [array([[0., 0., 0., ..., 0., 0., 0.]], dtype=float32)]), ('00659697.jpg', [array([[0., 0., 0., ..., 0., 0., 0.]], dtype=float32)]), ('151217.jpg', [array([[ 0.      ,  0.      ,  0.      , ...,  0.      , 16.080227,\n",
            "         0.      ]], dtype=float32)]), ('00664028.jpg', [array([[0., 0., 0., ..., 0., 0., 0.]], dtype=float32)])]\n"
          ],
          "name": "stdout"
        }
      ]
    },
    {
      "cell_type": "code",
      "metadata": {
        "id": "bD-sbyH_4B4R"
      },
      "source": [
        ""
      ],
      "execution_count": null,
      "outputs": []
    }
  ]
}