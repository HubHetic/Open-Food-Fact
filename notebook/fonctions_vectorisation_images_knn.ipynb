{
  "nbformat": 4,
  "nbformat_minor": 0,
  "metadata": {
    "colab": {
      "name": "fonctions_vectorisation_images.ipynb",
      "provenance": [],
      "collapsed_sections": [],
      "toc_visible": true
    },
    "kernelspec": {
      "name": "python3",
      "display_name": "Python 3"
    },
    "language_info": {
      "name": "python"
    }
  },
  "cells": [
    {
      "cell_type": "code",
      "metadata": {
        "id": "fqbqn1pd2V_O"
      },
      "source": [
        "import os\n",
        "os.environ[\"CUDA_DEVICE_ORDER\"]=\"PCI_BUS_ID\"\n",
        "os.environ[\"CUDA_VISIBLE_DEVICES\"]=\"1\" "
      ],
      "execution_count": 1,
      "outputs": []
    },
    {
      "cell_type": "code",
      "metadata": {
        "id": "9FjlR0wr-ePQ"
      },
      "source": [
        "import keras\n",
        "from matplotlib import pyplot as plt\n",
        "import numpy as np\n",
        "import gzip\n",
        "%matplotlib inline\n",
        "from keras.layers import Input,Conv2D,MaxPooling2D,UpSampling2D\n",
        "from keras.models import Model\n",
        "from keras.optimizers import RMSprop\n",
        "\n",
        "from tensorflow.keras.preprocessing import image\n",
        "from tensorflow.keras.applications.vgg16 import preprocess_input,decode_predictions"
      ],
      "execution_count": 2,
      "outputs": []
    },
    {
      "cell_type": "code",
      "metadata": {
        "id": "VEhh2zVLbyee"
      },
      "source": [
        "from pydrive.auth import GoogleAuth\n",
        "from pydrive.drive import GoogleDrive\n",
        "from google.colab import auth\n",
        "from oauth2client.client import GoogleCredentials"
      ],
      "execution_count": 3,
      "outputs": []
    },
    {
      "cell_type": "code",
      "metadata": {
        "id": "isXISKCFb1Q_"
      },
      "source": [
        "auth.authenticate_user()\n",
        "gauth = GoogleAuth()\n",
        "gauth.credentials = GoogleCredentials.get_application_default()\n",
        "drive = GoogleDrive(gauth)"
      ],
      "execution_count": 4,
      "outputs": []
    },
    {
      "cell_type": "code",
      "metadata": {
        "id": "yP54fCqycItH"
      },
      "source": [
        "bin_path = '/content/photos_produits/'"
      ],
      "execution_count": 5,
      "outputs": []
    },
    {
      "cell_type": "code",
      "metadata": {
        "colab": {
          "base_uri": "https://localhost:8080/"
        },
        "id": "F-UreILRdEnq",
        "outputId": "2d01a6e1-30d7-4520-ba27-167dbae0359d"
      },
      "source": [
        "os.chdir('/content/photos_produits/')\n",
        "print(f\"The current working directory: {os.getcwd()} \")"
      ],
      "execution_count": 6,
      "outputs": [
        {
          "output_type": "stream",
          "text": [
            "The current working directory: /content/photos_produits \n"
          ],
          "name": "stdout"
        }
      ]
    },
    {
      "cell_type": "code",
      "metadata": {
        "id": "UXR5axPmneLh"
      },
      "source": [
        "# Import et transformation des images en np array\n",
        "# Converts a PIL Image to 3D Numy Array\n",
        "# Adding the fouth dimension, for number of images\n",
        "# mean centering with respect to Image\n",
        "\n",
        "def import_process_img(bin_path):\n",
        "  liste_img_prep = []\n",
        "  SIZE = (224, 224)\n",
        "\n",
        "  for img in os.listdir(bin_path):\n",
        "      if img[-1] == 'g':  # assure qu'on traite bien un jpg ou png\n",
        "        img = image.load_img(img, color_mode='rgb', target_size=SIZE)\n",
        "\n",
        "        img = image.img_to_array(img)\n",
        "\n",
        "        img = np.expand_dims(img, axis=0)\n",
        "\n",
        "        img_prep = preprocess_input(img)\n",
        "\n",
        "        liste_img_prep.append(img_prep)\n",
        "\n",
        "  return liste_img_prep\n"
      ],
      "execution_count": 7,
      "outputs": []
    },
    {
      "cell_type": "code",
      "metadata": {
        "id": "IPrcyM-Enqt8",
        "colab": {
          "base_uri": "https://localhost:8080/"
        },
        "outputId": "29dbed64-f057-4830-a57d-d76987a0e136"
      },
      "source": [
        "liste_test = import_process_img(bin_path)\n",
        "liste_test[0].shape"
      ],
      "execution_count": 8,
      "outputs": [
        {
          "output_type": "execute_result",
          "data": {
            "text/plain": [
              "(1, 224, 224, 3)"
            ]
          },
          "metadata": {
            "tags": []
          },
          "execution_count": 8
        }
      ]
    },
    {
      "cell_type": "code",
      "metadata": {
        "id": "V5UDNg_kMSM5",
        "colab": {
          "base_uri": "https://localhost:8080/"
        },
        "outputId": "f9489b4b-61d3-4872-aba3-2c0b23fbfb16"
      },
      "source": [
        "# On utilise un modèle VGG 16 pré entraîné\n",
        "\n",
        "from keras.applications.vgg16 import VGG16\n",
        "model = VGG16(weights='imagenet')\n",
        "print(model.summary())"
      ],
      "execution_count": 9,
      "outputs": [
        {
          "output_type": "stream",
          "text": [
            "Downloading data from https://storage.googleapis.com/tensorflow/keras-applications/vgg16/vgg16_weights_tf_dim_ordering_tf_kernels.h5\n",
            "553467904/553467096 [==============================] - 4s 0us/step\n",
            "Model: \"vgg16\"\n",
            "_________________________________________________________________\n",
            "Layer (type)                 Output Shape              Param #   \n",
            "=================================================================\n",
            "input_1 (InputLayer)         [(None, 224, 224, 3)]     0         \n",
            "_________________________________________________________________\n",
            "block1_conv1 (Conv2D)        (None, 224, 224, 64)      1792      \n",
            "_________________________________________________________________\n",
            "block1_conv2 (Conv2D)        (None, 224, 224, 64)      36928     \n",
            "_________________________________________________________________\n",
            "block1_pool (MaxPooling2D)   (None, 112, 112, 64)      0         \n",
            "_________________________________________________________________\n",
            "block2_conv1 (Conv2D)        (None, 112, 112, 128)     73856     \n",
            "_________________________________________________________________\n",
            "block2_conv2 (Conv2D)        (None, 112, 112, 128)     147584    \n",
            "_________________________________________________________________\n",
            "block2_pool (MaxPooling2D)   (None, 56, 56, 128)       0         \n",
            "_________________________________________________________________\n",
            "block3_conv1 (Conv2D)        (None, 56, 56, 256)       295168    \n",
            "_________________________________________________________________\n",
            "block3_conv2 (Conv2D)        (None, 56, 56, 256)       590080    \n",
            "_________________________________________________________________\n",
            "block3_conv3 (Conv2D)        (None, 56, 56, 256)       590080    \n",
            "_________________________________________________________________\n",
            "block3_pool (MaxPooling2D)   (None, 28, 28, 256)       0         \n",
            "_________________________________________________________________\n",
            "block4_conv1 (Conv2D)        (None, 28, 28, 512)       1180160   \n",
            "_________________________________________________________________\n",
            "block4_conv2 (Conv2D)        (None, 28, 28, 512)       2359808   \n",
            "_________________________________________________________________\n",
            "block4_conv3 (Conv2D)        (None, 28, 28, 512)       2359808   \n",
            "_________________________________________________________________\n",
            "block4_pool (MaxPooling2D)   (None, 14, 14, 512)       0         \n",
            "_________________________________________________________________\n",
            "block5_conv1 (Conv2D)        (None, 14, 14, 512)       2359808   \n",
            "_________________________________________________________________\n",
            "block5_conv2 (Conv2D)        (None, 14, 14, 512)       2359808   \n",
            "_________________________________________________________________\n",
            "block5_conv3 (Conv2D)        (None, 14, 14, 512)       2359808   \n",
            "_________________________________________________________________\n",
            "block5_pool (MaxPooling2D)   (None, 7, 7, 512)         0         \n",
            "_________________________________________________________________\n",
            "flatten (Flatten)            (None, 25088)             0         \n",
            "_________________________________________________________________\n",
            "fc1 (Dense)                  (None, 4096)              102764544 \n",
            "_________________________________________________________________\n",
            "fc2 (Dense)                  (None, 4096)              16781312  \n",
            "_________________________________________________________________\n",
            "predictions (Dense)          (None, 1000)              4097000   \n",
            "=================================================================\n",
            "Total params: 138,357,544\n",
            "Trainable params: 138,357,544\n",
            "Non-trainable params: 0\n",
            "_________________________________________________________________\n",
            "None\n"
          ],
          "name": "stdout"
        }
      ]
    },
    {
      "cell_type": "code",
      "metadata": {
        "id": "remtAW7sXOsK"
      },
      "source": [
        "from keras import backend as K"
      ],
      "execution_count": 10,
      "outputs": []
    },
    {
      "cell_type": "code",
      "metadata": {
        "id": "38tHIIrZqFLm"
      },
      "source": [
        "# Avec K.function on fait passer nos images dans le modèle\n",
        "# on enregistre les informations de la couche flatten pour chaque image \n",
        "# dans liste_images\n",
        "\n",
        "def vectorisation_image(liste_images):\n",
        "  liste_vecteurs = []\n",
        "  func = K.function([model.input], [model.layers[-4].output])\n",
        "\n",
        "  for img in liste_images:\n",
        "    liste_vecteurs.append(func(img))\n",
        "  \n",
        "  return liste_vecteurs"
      ],
      "execution_count": 11,
      "outputs": []
    },
    {
      "cell_type": "code",
      "metadata": {
        "id": "YN5DMs4dqtmU"
      },
      "source": [
        "vecteurs_unclean = vectorisation_image(liste_test)"
      ],
      "execution_count": 45,
      "outputs": []
    },
    {
      "cell_type": "code",
      "metadata": {
        "id": "86AskJH_PEOz"
      },
      "source": [
        "vecteurs = [x[0][0] for x in vecteurs_unclean]\n"
      ],
      "execution_count": 46,
      "outputs": []
    },
    {
      "cell_type": "code",
      "metadata": {
        "colab": {
          "base_uri": "https://localhost:8080/"
        },
        "id": "MtskUjWF4hVz",
        "outputId": "d0c66069-3fce-45bd-8194-1517d1bfb520"
      },
      "source": [
        "len(vecteurs)"
      ],
      "execution_count": 47,
      "outputs": [
        {
          "output_type": "execute_result",
          "data": {
            "text/plain": [
              "13"
            ]
          },
          "metadata": {
            "tags": []
          },
          "execution_count": 47
        }
      ]
    },
    {
      "cell_type": "code",
      "metadata": {
        "id": "aNYn-ZaVq6DR",
        "colab": {
          "base_uri": "https://localhost:8080/",
          "height": 34
        },
        "outputId": "336577b6-f791-4db6-abc3-af01358e0311"
      },
      "source": [
        "display(vecteurs[0].shape)"
      ],
      "execution_count": 52,
      "outputs": [
        {
          "output_type": "display_data",
          "data": {
            "text/plain": [
              "(25088,)"
            ]
          },
          "metadata": {
            "tags": []
          }
        }
      ]
    },
    {
      "cell_type": "code",
      "metadata": {
        "colab": {
          "base_uri": "https://localhost:8080/"
        },
        "id": "HzXSq_gc4zpx",
        "outputId": "a26913d1-4cf0-4db7-c1c4-10a58c8011d1"
      },
      "source": [
        "pictures = [file for file in os.listdir(bin_path) if file.endswith(('jpg', 'png' ))]\n",
        "print(type(pictures))"
      ],
      "execution_count": 53,
      "outputs": [
        {
          "output_type": "stream",
          "text": [
            "<class 'list'>\n"
          ],
          "name": "stdout"
        }
      ]
    },
    {
      "cell_type": "code",
      "metadata": {
        "id": "fLtpplyyxNOW"
      },
      "source": [
        "# Renvoie un tuple contenant l'id des images et leurs vecteurs associés \n",
        "# bin_path est le chemin du dossier où les images sont stockées\n",
        "# vecteurs est une liste de np array des images vectorisées\n",
        "# on part du principe qu'on exécute les images dans l'ordre , à garder en tête\n",
        "\n",
        "def zip_id_vecteur(vecteurs, bin_path):\n",
        "  pictures = [file for file in os.listdir(bin_path) if file.endswith(('jpg', 'png' ))]\n",
        "\n",
        "  df = list(zip(pictures, vecteurs))\n",
        "  \n",
        "  return df"
      ],
      "execution_count": 54,
      "outputs": []
    },
    {
      "cell_type": "code",
      "metadata": {
        "id": "yFEysu4FzrJs"
      },
      "source": [
        "id_vecteurs = zip_id_vecteur(vecteurs, bin_path)"
      ],
      "execution_count": 55,
      "outputs": []
    },
    {
      "cell_type": "markdown",
      "metadata": {
        "id": "nw1QX6-JMs61"
      },
      "source": [
        "KNN \n"
      ]
    },
    {
      "cell_type": "code",
      "metadata": {
        "id": "_wfz1ZvQNFPF"
      },
      "source": [
        "def calcul_distance(vecteur1, vecteur2):\n",
        "  return sum((vecteur1 - vecteur2)**2)"
      ],
      "execution_count": 66,
      "outputs": []
    },
    {
      "cell_type": "code",
      "metadata": {
        "colab": {
          "base_uri": "https://localhost:8080/"
        },
        "id": "GYxRyN7URQOn",
        "outputId": "80c16ef8-467e-48ec-bae3-a3b4269858ec"
      },
      "source": [
        "print(calcul_distance(id_vecteurs[1][1], id_vecteurs[2][1]))"
      ],
      "execution_count": 69,
      "outputs": [
        {
          "output_type": "stream",
          "text": [
            "5227432.958613917\n"
          ],
          "name": "stdout"
        }
      ]
    },
    {
      "cell_type": "code",
      "metadata": {
        "id": "DKP7_yC4Ri32"
      },
      "source": [
        "def knn(vecteur, liste_tuples_id_vecteurs):\n",
        "  \n",
        "  liste = [calcul_distance(x[1], vecteur[1]) for x in liste_tuples_id_vecteurs]\n",
        "  return liste_tuples_id_vecteurs[liste.index(min(liste))][0]"
      ],
      "execution_count": 76,
      "outputs": []
    },
    {
      "cell_type": "code",
      "metadata": {
        "colab": {
          "base_uri": "https://localhost:8080/"
        },
        "id": "FQsTMbEAU9Zt",
        "outputId": "e4873cb5-0d07-40e8-a026-7de7cfffc628"
      },
      "source": [
        "print(knn(id_vecteurs[3], id_vecteurs))"
      ],
      "execution_count": 79,
      "outputs": [
        {
          "output_type": "stream",
          "text": [
            "00659697.jpg\n"
          ],
          "name": "stdout"
        }
      ]
    },
    {
      "cell_type": "code",
      "metadata": {
        "id": "95aEbEcOWyJL"
      },
      "source": [
        ""
      ],
      "execution_count": null,
      "outputs": []
    }
  ]
}