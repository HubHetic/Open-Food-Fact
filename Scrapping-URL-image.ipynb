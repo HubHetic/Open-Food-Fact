{
 "cells": [
  {
   "cell_type": "code",
   "execution_count": 10,
   "metadata": {},
   "outputs": [
    {
     "output_type": "stream",
     "name": "stdout",
     "text": [
      "Collecting requests\n",
      "  Downloading requests-2.25.1-py2.py3-none-any.whl (61 kB)\n",
      "Collecting idna<3,>=2.5\n",
      "  Downloading idna-2.10-py2.py3-none-any.whl (58 kB)\n",
      "Collecting urllib3<1.27,>=1.21.1\n",
      "  Downloading urllib3-1.26.4-py2.py3-none-any.whl (153 kB)\n",
      "Collecting certifi>=2017.4.17\n",
      "  Downloading certifi-2020.12.5-py2.py3-none-any.whl (147 kB)\n",
      "Collecting chardet<5,>=3.0.2\n",
      "  Downloading chardet-4.0.0-py2.py3-none-any.whl (178 kB)\n",
      "Installing collected packages: idna, urllib3, certifi, chardet, requests\n",
      "Successfully installed certifi-2020.12.5 chardet-4.0.0 idna-2.10 requests-2.25.1 urllib3-1.26.4\n",
      "  WARNING: The script chardetect.exe is installed in 'd:Scripts' which is not on PATH.\n",
      "  Consider adding this directory to PATH or, if you prefer to suppress this warning, use --no-warn-script-location.\n",
      "WARNING: You are using pip version 20.2.3; however, version 21.0.1 is available.\n",
      "You should consider upgrading via the 'd:\\python.exe -m pip install --upgrade pip' command.\n"
     ]
    }
   ],
   "source": [
    "\n",
    "import pandas as pd\n",
    "import numpy as np \n",
    "!pip install requests\n",
    "import requests \n",
    "import shutil \n",
    "import multiprocessing"
   ]
  },
  {
   "cell_type": "code",
   "execution_count": 12,
   "metadata": {},
   "outputs": [
    {
     "output_type": "stream",
     "name": "stderr",
     "text": [
      "C:\\Users\\Utilisateur\\AppData\\Roaming\\Python\\Python39\\site-packages\\IPython\\core\\interactiveshell.py:3146: DtypeWarning: Columns (1) have mixed types.Specify dtype option on import or set low_memory=False.\n  has_raised = await self.run_ast_nodes(code_ast.body, cell_name,\n"
     ]
    }
   ],
   "source": [
    "# chemin base de données avec url image\n",
    "\n"
   ]
  },
  {
   "cell_type": "code",
   "execution_count": 13,
   "metadata": {},
   "outputs": [
    {
     "output_type": "execute_result",
     "data": {
      "text/plain": [
       "   Unnamed: 0           code  \\\n",
       "0          20   000000000114   \n",
       "1          22  0000000001199   \n",
       "2          23  0000000001281   \n",
       "3          30  0000000001663   \n",
       "4          33  0000000001885   \n",
       "\n",
       "                                                 url  creator   created_t  \\\n",
       "0  http://world-en.openfoodfacts.org/product/0000...  kiliweb  1580066482   \n",
       "1  http://world-en.openfoodfacts.org/product/0000...  kiliweb  1517833594   \n",
       "2  http://world-en.openfoodfacts.org/product/0000...  kiliweb  1517830801   \n",
       "3  http://world-en.openfoodfacts.org/product/0000...  kiliweb  1509478049   \n",
       "4  http://world-en.openfoodfacts.org/product/0000...  kiliweb  1511180337   \n",
       "\n",
       "       created_datetime  last_modified_t last_modified_datetime  \\\n",
       "0  2020-01-26T19:21:22Z       1609945229   2021-01-06T15:00:29Z   \n",
       "1  2018-02-05T12:26:34Z       1540674511   2018-10-27T21:08:31Z   \n",
       "2  2018-02-05T11:40:01Z       1527070794   2018-05-23T10:19:54Z   \n",
       "3  2017-10-31T19:27:29Z       1509478053   2017-10-31T19:27:33Z   \n",
       "4  2017-11-20T12:18:57Z       1518126491   2018-02-08T21:48:11Z   \n",
       "\n",
       "             product_name countries countries_tags countries_en  \\\n",
       "0           Chocolate n 3     en:fr      en:france       France   \n",
       "1  Solène céréales poulet    France      en:france       France   \n",
       "2      Tarte noix de coco    France      en:france       France   \n",
       "3  Crème dessert chocolat    France      en:france       France   \n",
       "4        Compote de poire    France      en:france       France   \n",
       "\n",
       "                                           image_url  \\\n",
       "0  https://static.openfoodfacts.org/images/produc...   \n",
       "1  https://static.openfoodfacts.org/images/produc...   \n",
       "2  https://static.openfoodfacts.org/images/produc...   \n",
       "3  https://static.openfoodfacts.org/images/produc...   \n",
       "4  https://static.openfoodfacts.org/images/produc...   \n",
       "\n",
       "                                     image_small_url  \\\n",
       "0  https://static.openfoodfacts.org/images/produc...   \n",
       "1  https://static.openfoodfacts.org/images/produc...   \n",
       "2  https://static.openfoodfacts.org/images/produc...   \n",
       "3  https://static.openfoodfacts.org/images/produc...   \n",
       "4  https://static.openfoodfacts.org/images/produc...   \n",
       "\n",
       "                               image_ingredients_url  \\\n",
       "0                                                NaN   \n",
       "1  https://static.openfoodfacts.org/images/produc...   \n",
       "2  https://static.openfoodfacts.org/images/produc...   \n",
       "3  https://static.openfoodfacts.org/images/produc...   \n",
       "4                                                NaN   \n",
       "\n",
       "                         image_ingredients_small_url  \\\n",
       "0                                                NaN   \n",
       "1  https://static.openfoodfacts.org/images/produc...   \n",
       "2  https://static.openfoodfacts.org/images/produc...   \n",
       "3  https://static.openfoodfacts.org/images/produc...   \n",
       "4                                                NaN   \n",
       "\n",
       "                                 image_nutrition_url  \\\n",
       "0  https://static.openfoodfacts.org/images/produc...   \n",
       "1  https://static.openfoodfacts.org/images/produc...   \n",
       "2                                                NaN   \n",
       "3                                                NaN   \n",
       "4  https://static.openfoodfacts.org/images/produc...   \n",
       "\n",
       "                           image_nutrition_small_url  \n",
       "0  https://static.openfoodfacts.org/images/produc...  \n",
       "1  https://static.openfoodfacts.org/images/produc...  \n",
       "2                                                NaN  \n",
       "3                                                NaN  \n",
       "4  https://static.openfoodfacts.org/images/produc...  "
      ],
      "text/html": "<div>\n<style scoped>\n    .dataframe tbody tr th:only-of-type {\n        vertical-align: middle;\n    }\n\n    .dataframe tbody tr th {\n        vertical-align: top;\n    }\n\n    .dataframe thead th {\n        text-align: right;\n    }\n</style>\n<table border=\"1\" class=\"dataframe\">\n  <thead>\n    <tr style=\"text-align: right;\">\n      <th></th>\n      <th>Unnamed: 0</th>\n      <th>code</th>\n      <th>url</th>\n      <th>creator</th>\n      <th>created_t</th>\n      <th>created_datetime</th>\n      <th>last_modified_t</th>\n      <th>last_modified_datetime</th>\n      <th>product_name</th>\n      <th>countries</th>\n      <th>countries_tags</th>\n      <th>countries_en</th>\n      <th>image_url</th>\n      <th>image_small_url</th>\n      <th>image_ingredients_url</th>\n      <th>image_ingredients_small_url</th>\n      <th>image_nutrition_url</th>\n      <th>image_nutrition_small_url</th>\n    </tr>\n  </thead>\n  <tbody>\n    <tr>\n      <th>0</th>\n      <td>20</td>\n      <td>000000000114</td>\n      <td>http://world-en.openfoodfacts.org/product/0000...</td>\n      <td>kiliweb</td>\n      <td>1580066482</td>\n      <td>2020-01-26T19:21:22Z</td>\n      <td>1609945229</td>\n      <td>2021-01-06T15:00:29Z</td>\n      <td>Chocolate n 3</td>\n      <td>en:fr</td>\n      <td>en:france</td>\n      <td>France</td>\n      <td>https://static.openfoodfacts.org/images/produc...</td>\n      <td>https://static.openfoodfacts.org/images/produc...</td>\n      <td>NaN</td>\n      <td>NaN</td>\n      <td>https://static.openfoodfacts.org/images/produc...</td>\n      <td>https://static.openfoodfacts.org/images/produc...</td>\n    </tr>\n    <tr>\n      <th>1</th>\n      <td>22</td>\n      <td>0000000001199</td>\n      <td>http://world-en.openfoodfacts.org/product/0000...</td>\n      <td>kiliweb</td>\n      <td>1517833594</td>\n      <td>2018-02-05T12:26:34Z</td>\n      <td>1540674511</td>\n      <td>2018-10-27T21:08:31Z</td>\n      <td>Solène céréales poulet</td>\n      <td>France</td>\n      <td>en:france</td>\n      <td>France</td>\n      <td>https://static.openfoodfacts.org/images/produc...</td>\n      <td>https://static.openfoodfacts.org/images/produc...</td>\n      <td>https://static.openfoodfacts.org/images/produc...</td>\n      <td>https://static.openfoodfacts.org/images/produc...</td>\n      <td>https://static.openfoodfacts.org/images/produc...</td>\n      <td>https://static.openfoodfacts.org/images/produc...</td>\n    </tr>\n    <tr>\n      <th>2</th>\n      <td>23</td>\n      <td>0000000001281</td>\n      <td>http://world-en.openfoodfacts.org/product/0000...</td>\n      <td>kiliweb</td>\n      <td>1517830801</td>\n      <td>2018-02-05T11:40:01Z</td>\n      <td>1527070794</td>\n      <td>2018-05-23T10:19:54Z</td>\n      <td>Tarte noix de coco</td>\n      <td>France</td>\n      <td>en:france</td>\n      <td>France</td>\n      <td>https://static.openfoodfacts.org/images/produc...</td>\n      <td>https://static.openfoodfacts.org/images/produc...</td>\n      <td>https://static.openfoodfacts.org/images/produc...</td>\n      <td>https://static.openfoodfacts.org/images/produc...</td>\n      <td>NaN</td>\n      <td>NaN</td>\n    </tr>\n    <tr>\n      <th>3</th>\n      <td>30</td>\n      <td>0000000001663</td>\n      <td>http://world-en.openfoodfacts.org/product/0000...</td>\n      <td>kiliweb</td>\n      <td>1509478049</td>\n      <td>2017-10-31T19:27:29Z</td>\n      <td>1509478053</td>\n      <td>2017-10-31T19:27:33Z</td>\n      <td>Crème dessert chocolat</td>\n      <td>France</td>\n      <td>en:france</td>\n      <td>France</td>\n      <td>https://static.openfoodfacts.org/images/produc...</td>\n      <td>https://static.openfoodfacts.org/images/produc...</td>\n      <td>https://static.openfoodfacts.org/images/produc...</td>\n      <td>https://static.openfoodfacts.org/images/produc...</td>\n      <td>NaN</td>\n      <td>NaN</td>\n    </tr>\n    <tr>\n      <th>4</th>\n      <td>33</td>\n      <td>0000000001885</td>\n      <td>http://world-en.openfoodfacts.org/product/0000...</td>\n      <td>kiliweb</td>\n      <td>1511180337</td>\n      <td>2017-11-20T12:18:57Z</td>\n      <td>1518126491</td>\n      <td>2018-02-08T21:48:11Z</td>\n      <td>Compote de poire</td>\n      <td>France</td>\n      <td>en:france</td>\n      <td>France</td>\n      <td>https://static.openfoodfacts.org/images/produc...</td>\n      <td>https://static.openfoodfacts.org/images/produc...</td>\n      <td>NaN</td>\n      <td>NaN</td>\n      <td>https://static.openfoodfacts.org/images/produc...</td>\n      <td>https://static.openfoodfacts.org/images/produc...</td>\n    </tr>\n  </tbody>\n</table>\n</div>"
     },
     "metadata": {},
     "execution_count": 13
    }
   ],
   "source": [
    "df.head()\n"
   ]
  },
  {
   "cell_type": "code",
   "execution_count": null,
   "metadata": {},
   "outputs": [],
   "source": [
    "class myThread (threading.Thread):\n",
    "    def __init__(self, threadID, name, q):\n",
    "        threading.Thread.__init__(self)\n",
    "        self.threadID = threadID\n",
    "        self.name = name\n",
    "        self.q = q\n",
    "    \n",
    "    def run(self):\n",
    "        print (\"Starting \" + self.name)\n",
    "        process_data(self.name, self.q)\n",
    "        print (\"Exiting \" + self.name)"
   ]
  },
  {
   "cell_type": "code",
   "execution_count": null,
   "metadata": {
    "scrolled": false
   },
   "outputs": [],
   "source": [
    "import queue\n",
    "import threading\n",
    "import time\n",
    "\n",
    "list_url = df['image_url'].to_numpy()\n",
    "list_code = df['code'].to_numpy()\n",
    "exitFlag = 0\n",
    "\n",
    "# fonction pour télécharger une image\n",
    "def process_data(threadName, q):\n",
    "    while not exitFlag:\n",
    "        queueLock.acquire()\n",
    "        if not workQueue.empty():\n",
    "            loic, nom = q.get()\n",
    "        queueLock.release()\n",
    "        r = requests.get(loic, stream=True)\n",
    "        if r.status_code != 200:\n",
    "            with open(\"image_non_telecharger.txt\", \"w\") as fichier:\n",
    "                fichier.write(f\"image not télécharger code : {nom}\\n\")\n",
    "        filename = \"./data_image/\" + str(nom) + \".\" +  loic.split('.')[-1]\n",
    "        with open(filename, 'wb') as f:\n",
    "            shutil.copyfileobj(r.raw, f)\n",
    "\n",
    "threadList = [\"Thread-1\", \"Thread-2\", \"Thread-3\", \"Thread-4\", \"Thread-5\", \"Thread-6\", \"Thread-7\", \"Thread-8\"]\n",
    "queueLock = threading.Lock()\n",
    "queueLock.acquire()\n",
    "workQueue = queue.Queue(len(list_code))\n",
    "threads = []\n",
    "threadID = 1\n",
    "\n",
    "print(\"Create new threads\")\n",
    "# Create new threads\n",
    "for tName in threadList:\n",
    "    thread = myThread(threadID, tName, workQueue)\n",
    "    thread.start()\n",
    "    threads.append(thread)\n",
    "    threadID += 1\n",
    "\n",
    "print(\"Fill the queue\")\n",
    "# Fill the queue\n",
    "#queueLock.acquire()\n",
    "for coup in zip(list_url[65536:], list_code[65536:]):\n",
    "    workQueue.put(coup)\n",
    "queueLock.release()\n",
    "\n",
    "print(\"Wait the queue\")\n",
    "# Wait for queue to empty\n",
    "while not workQueue.empty():\n",
    "    pass\n",
    "\n",
    "# Notify threads it's time to exit\n",
    "exitFlag = 1\n",
    "\n",
    "# Wait for all threads to complete\n",
    "for t in threads:\n",
    "    t.join()\n",
    "print (\"Exiting Main Thread\")"
   ]
  },
  {
   "cell_type": "code",
   "execution_count": 15,
   "metadata": {},
   "outputs": [
    {
     "output_type": "stream",
     "name": "stdout",
     "text": [
      "fini\n"
     ]
    }
   ],
   "source": [
    "list_url = df['image_url'].to_numpy()[0:1000]\n",
    "list_code = df['code'].to_numpy()[0:1000]\n",
    "inputs = list(zip(list_url, list_code))\n",
    "\n",
    "\n",
    "def multiprocessing_func(x):\n",
    "    \"\"\"Individually prints the squares y_i of the elements x_i of a vector x\"\"\"\n",
    "    print(x)\n",
    "    r = requests.get(x[0], stream=True)\n",
    "    if r.status_code != 200:\n",
    "        with open(\"image_non_telecharger.txt\", \"w\") as fichier:\n",
    "            fichier.write(f\"image not télécharger code : {x[1]}\\n\")\n",
    "    else:\n",
    "        filename = \"./data_image_2/\" + str(x[1]) + \".\" + x[0].split('.')[-1]\n",
    "        with open(filename, 'wb') as f:\n",
    "            shutil.copyfileobj(r.raw, f)\n",
    "\n",
    "\n",
    "def chunks(input, n):\n",
    "    \"\"\"Yields successive n-sized chunks of input\"\"\"\n",
    "    for i in range(0, len(inputs), n):\n",
    "        yield input[i:i + n]\n",
    "\n",
    "\n",
    "\n",
    "    print(\"fini\")\n",
    "\n",
    "if __name__ == '__main__':\n",
    "    n_proc = 6\n",
    "    x = np.arange(100)\n",
    "    chunked_x = list(chunks(x, int(x.shape[0]/n_proc)+1))\n",
    "    processes = []\n",
    "    for i in np.arange(0, n_proc):\n",
    "        p = multiprocessing.Process(target=multiprocessing_func, args=(chunked_x[i],))\n",
    "        processes.append(p)\n",
    "        p.start()\n",
    "    for process in processes:\n",
    "        process.join()\n",
    "    print(\"salut\")\n"
   ]
  },
  {
   "cell_type": "code",
   "execution_count": 20,
   "metadata": {},
   "outputs": [
    {
     "output_type": "stream",
     "name": "stdout",
     "text": [
      "fini\nsalut\n"
     ]
    }
   ],
   "source": []
  },
  {
   "cell_type": "code",
   "execution_count": null,
   "metadata": {},
   "outputs": [],
   "source": []
  }
 ],
 "metadata": {
  "kernelspec": {
   "display_name": "Python 3",
   "language": "python",
   "name": "python3"
  },
  "language_info": {
   "codemirror_mode": {
    "name": "ipython",
    "version": 3
   },
   "file_extension": ".py",
   "mimetype": "text/x-python",
   "name": "python",
   "nbconvert_exporter": "python",
   "pygments_lexer": "ipython3",
   "version": "3.9.1"
  }
 },
 "nbformat": 4,
 "nbformat_minor": 4
}