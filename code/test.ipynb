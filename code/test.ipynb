{
 "cells": [
  {
   "cell_type": "code",
   "execution_count": 1,
   "metadata": {},
   "outputs": [],
   "source": [
    "from main import *\n",
    "import os\n",
    "import numpy as np\n",
    "from db_vecteur import new_vecteur_to_database"
   ]
  },
  {
   "cell_type": "code",
   "execution_count": 2,
   "metadata": {},
   "outputs": [
    {
     "data": {
      "text/plain": [
       "'C:\\\\Users\\\\Utilisateur\\\\Documents\\\\HETIC\\\\Hub_hetic\\\\Open-Food-Fact\\\\data_image'"
      ]
     },
     "execution_count": 2,
     "metadata": {},
     "output_type": "execute_result"
    }
   ],
   "source": [
    "path =r'C:\\Users\\Utilisateur\\Documents\\HETIC\\Hub_hetic\\Open-Food-Fact\\data_image'\n",
    "os.path.abspath(path)\n"
   ]
  },
  {
   "cell_type": "code",
   "execution_count": 3,
   "metadata": {},
   "outputs": [],
   "source": [
    "#all_implement(path)"
   ]
  },
  {
   "cell_type": "code",
   "execution_count": 4,
   "metadata": {},
   "outputs": [
    {
     "name": "stdout",
     "output_type": "stream",
     "text": [
      "['00000006.jpg', '00000024.jpg', '00001801051082969226.jpg', '00020009001820002310.jpg', '00020012101720003074.jpg', '00020233801719002408.jpg', '00020526001720004010.jpg', '00020601205721007456.jpg', '00020603803020006071.jpg', '00020608703020006642.jpg', '00020608703020007526.jpg', '00020611803020006162.jpg', '00020616703020006665.jpg', '00020621103019006973.jpg', '00020625905720005841.jpg', '00020631603020006353.jpg', '00020634303019006445.jpg', '00020634303019007404.jpg', '00020726901319004347.jpg', '00020726901319005085.jpg', '00020801303021003944.jpg', '00020804203020002832.jpg', '00020813503020003470.jpg', '00020920403819003379.jpg', '00020926201319002885.jpg', '00020927601819003280.jpg', '00020929601819003486.jpg', '00020933501820002849.jpg', '00020933903819003002.jpg', '00021104905720004591.jpg', '00021124603020004740.jpg', '00021309402219005402.jpg', '00021309502220004231.jpg', '00021631900419000006.jpg', '00021632500419000007.jpg', '00021822406620003008.jpg', '00023400705720005223.jpg', '00023421203020004449.jpg', '00023432901320005291.jpg', '00023434603019005145.jpg', '00023434603019006548.jpg', '00023513400420000006.jpg', '00023517400420000002.jpg', '00024521401819000009.jpg', '00024734401719000002.jpg', '00030422501319002297.jpg', '00030429001720002167.jpg', '00031512002320004342.jpg', '00031519801819003728.jpg', '00032914803220000004.jpg']\n"
     ]
    }
   ],
   "source": [
    "t = train_cnn()\n"
   ]
  },
  {
   "cell_type": "code",
   "execution_count": null,
   "metadata": {},
   "outputs": [],
   "source": []
  },
  {
   "cell_type": "code",
   "execution_count": 5,
   "metadata": {},
   "outputs": [
    {
     "data": {
      "text/html": [
       "<div>\n",
       "<style scoped>\n",
       "    .dataframe tbody tr th:only-of-type {\n",
       "        vertical-align: middle;\n",
       "    }\n",
       "\n",
       "    .dataframe tbody tr th {\n",
       "        vertical-align: top;\n",
       "    }\n",
       "\n",
       "    .dataframe thead th {\n",
       "        text-align: right;\n",
       "    }\n",
       "</style>\n",
       "<table border=\"1\" class=\"dataframe\">\n",
       "  <thead>\n",
       "    <tr style=\"text-align: right;\">\n",
       "      <th></th>\n",
       "      <th>vector0</th>\n",
       "      <th>vector1</th>\n",
       "      <th>vector2</th>\n",
       "      <th>vector3</th>\n",
       "      <th>vector4</th>\n",
       "      <th>vector5</th>\n",
       "      <th>vector6</th>\n",
       "      <th>vector7</th>\n",
       "      <th>vector8</th>\n",
       "      <th>vector9</th>\n",
       "      <th>...</th>\n",
       "      <th>vector4087</th>\n",
       "      <th>vector4088</th>\n",
       "      <th>vector4089</th>\n",
       "      <th>vector4090</th>\n",
       "      <th>vector4091</th>\n",
       "      <th>vector4092</th>\n",
       "      <th>vector4093</th>\n",
       "      <th>vector4094</th>\n",
       "      <th>vector4095</th>\n",
       "      <th>code</th>\n",
       "    </tr>\n",
       "  </thead>\n",
       "  <tbody>\n",
       "    <tr>\n",
       "      <th>0</th>\n",
       "      <td>0.0</td>\n",
       "      <td>0.0</td>\n",
       "      <td>1.077215</td>\n",
       "      <td>0.631472</td>\n",
       "      <td>2.602370</td>\n",
       "      <td>0.000000</td>\n",
       "      <td>0.00000</td>\n",
       "      <td>0.000000</td>\n",
       "      <td>0.000000</td>\n",
       "      <td>0.000000</td>\n",
       "      <td>...</td>\n",
       "      <td>0.000000</td>\n",
       "      <td>0.000000</td>\n",
       "      <td>0.000000</td>\n",
       "      <td>0.000000</td>\n",
       "      <td>0.000000</td>\n",
       "      <td>0.0</td>\n",
       "      <td>1.322136</td>\n",
       "      <td>0.00000</td>\n",
       "      <td>4.423577</td>\n",
       "      <td>00000006</td>\n",
       "    </tr>\n",
       "    <tr>\n",
       "      <th>1</th>\n",
       "      <td>0.0</td>\n",
       "      <td>0.0</td>\n",
       "      <td>0.108673</td>\n",
       "      <td>0.000000</td>\n",
       "      <td>5.004454</td>\n",
       "      <td>0.000000</td>\n",
       "      <td>0.00000</td>\n",
       "      <td>0.000000</td>\n",
       "      <td>1.215827</td>\n",
       "      <td>0.000000</td>\n",
       "      <td>...</td>\n",
       "      <td>0.000000</td>\n",
       "      <td>2.281108</td>\n",
       "      <td>0.000000</td>\n",
       "      <td>0.000000</td>\n",
       "      <td>1.819595</td>\n",
       "      <td>0.0</td>\n",
       "      <td>0.000000</td>\n",
       "      <td>0.45195</td>\n",
       "      <td>0.153231</td>\n",
       "      <td>00000024</td>\n",
       "    </tr>\n",
       "    <tr>\n",
       "      <th>2</th>\n",
       "      <td>0.0</td>\n",
       "      <td>0.0</td>\n",
       "      <td>0.000000</td>\n",
       "      <td>0.000000</td>\n",
       "      <td>1.488329</td>\n",
       "      <td>0.510407</td>\n",
       "      <td>0.00000</td>\n",
       "      <td>0.000000</td>\n",
       "      <td>0.000000</td>\n",
       "      <td>0.000000</td>\n",
       "      <td>...</td>\n",
       "      <td>0.000000</td>\n",
       "      <td>0.000000</td>\n",
       "      <td>0.285119</td>\n",
       "      <td>0.000000</td>\n",
       "      <td>0.000000</td>\n",
       "      <td>0.0</td>\n",
       "      <td>0.000000</td>\n",
       "      <td>0.00000</td>\n",
       "      <td>0.000000</td>\n",
       "      <td>00001801051082969226</td>\n",
       "    </tr>\n",
       "    <tr>\n",
       "      <th>3</th>\n",
       "      <td>0.0</td>\n",
       "      <td>0.0</td>\n",
       "      <td>0.000000</td>\n",
       "      <td>0.309893</td>\n",
       "      <td>0.000000</td>\n",
       "      <td>0.000000</td>\n",
       "      <td>0.00000</td>\n",
       "      <td>0.000000</td>\n",
       "      <td>0.000000</td>\n",
       "      <td>0.000000</td>\n",
       "      <td>...</td>\n",
       "      <td>2.835940</td>\n",
       "      <td>0.000000</td>\n",
       "      <td>0.000000</td>\n",
       "      <td>0.107766</td>\n",
       "      <td>1.620731</td>\n",
       "      <td>0.0</td>\n",
       "      <td>0.000000</td>\n",
       "      <td>0.00000</td>\n",
       "      <td>0.000000</td>\n",
       "      <td>00020009001820002310</td>\n",
       "    </tr>\n",
       "    <tr>\n",
       "      <th>4</th>\n",
       "      <td>0.0</td>\n",
       "      <td>0.0</td>\n",
       "      <td>0.000000</td>\n",
       "      <td>1.074695</td>\n",
       "      <td>0.000000</td>\n",
       "      <td>0.000000</td>\n",
       "      <td>0.42195</td>\n",
       "      <td>0.987031</td>\n",
       "      <td>0.322699</td>\n",
       "      <td>2.438599</td>\n",
       "      <td>...</td>\n",
       "      <td>3.459359</td>\n",
       "      <td>0.000000</td>\n",
       "      <td>0.000000</td>\n",
       "      <td>0.000000</td>\n",
       "      <td>0.000000</td>\n",
       "      <td>0.0</td>\n",
       "      <td>0.000000</td>\n",
       "      <td>0.00000</td>\n",
       "      <td>0.000000</td>\n",
       "      <td>00020012101720003074</td>\n",
       "    </tr>\n",
       "  </tbody>\n",
       "</table>\n",
       "<p>5 rows × 4097 columns</p>\n",
       "</div>"
      ],
      "text/plain": [
       "   vector0  vector1   vector2   vector3   vector4   vector5  vector6  \\\n",
       "0      0.0      0.0  1.077215  0.631472  2.602370  0.000000  0.00000   \n",
       "1      0.0      0.0  0.108673  0.000000  5.004454  0.000000  0.00000   \n",
       "2      0.0      0.0  0.000000  0.000000  1.488329  0.510407  0.00000   \n",
       "3      0.0      0.0  0.000000  0.309893  0.000000  0.000000  0.00000   \n",
       "4      0.0      0.0  0.000000  1.074695  0.000000  0.000000  0.42195   \n",
       "\n",
       "    vector7   vector8   vector9  ...  vector4087  vector4088  vector4089  \\\n",
       "0  0.000000  0.000000  0.000000  ...    0.000000    0.000000    0.000000   \n",
       "1  0.000000  1.215827  0.000000  ...    0.000000    2.281108    0.000000   \n",
       "2  0.000000  0.000000  0.000000  ...    0.000000    0.000000    0.285119   \n",
       "3  0.000000  0.000000  0.000000  ...    2.835940    0.000000    0.000000   \n",
       "4  0.987031  0.322699  2.438599  ...    3.459359    0.000000    0.000000   \n",
       "\n",
       "   vector4090  vector4091  vector4092  vector4093  vector4094  vector4095  \\\n",
       "0    0.000000    0.000000         0.0    1.322136     0.00000    4.423577   \n",
       "1    0.000000    1.819595         0.0    0.000000     0.45195    0.153231   \n",
       "2    0.000000    0.000000         0.0    0.000000     0.00000    0.000000   \n",
       "3    0.107766    1.620731         0.0    0.000000     0.00000    0.000000   \n",
       "4    0.000000    0.000000         0.0    0.000000     0.00000    0.000000   \n",
       "\n",
       "                   code  \n",
       "0              00000006  \n",
       "1              00000024  \n",
       "2  00001801051082969226  \n",
       "3  00020009001820002310  \n",
       "4  00020012101720003074  \n",
       "\n",
       "[5 rows x 4097 columns]"
      ]
     },
     "execution_count": 5,
     "metadata": {},
     "output_type": "execute_result"
    }
   ],
   "source": [
    "t.head()"
   ]
  },
  {
   "cell_type": "code",
   "execution_count": 6,
   "metadata": {},
   "outputs": [
    {
     "ename": "TypeError",
     "evalue": "find_similar_vector_id() missing 1 required positional argument: 'nb_id'",
     "output_type": "error",
     "traceback": [
      "\u001b[1;31m---------------------------------------------------------------------------\u001b[0m",
      "\u001b[1;31mTypeError\u001b[0m                                 Traceback (most recent call last)",
      "\u001b[1;32m<ipython-input-6-385cf54a7bf3>\u001b[0m in \u001b[0;36m<module>\u001b[1;34m\u001b[0m\n\u001b[0;32m      1\u001b[0m \u001b[0mpath_dossier_image\u001b[0m \u001b[1;33m=\u001b[0m \u001b[1;34m\"../data/image/00000006.jpg\"\u001b[0m\u001b[1;33m\u001b[0m\u001b[1;33m\u001b[0m\u001b[0m\n\u001b[1;32m----> 2\u001b[1;33m \u001b[0mimage_to_code\u001b[0m\u001b[1;33m(\u001b[0m\u001b[0mpath_dossier_image\u001b[0m\u001b[1;33m)\u001b[0m\u001b[1;33m\u001b[0m\u001b[1;33m\u001b[0m\u001b[0m\n\u001b[0m",
      "\u001b[1;32m~\\Documents\\HETIC\\Hub_hetic\\Open-Food-Fact\\code\\main.py\u001b[0m in \u001b[0;36mimage_to_code\u001b[1;34m(image)\u001b[0m\n\u001b[0;32m     25\u001b[0m     \"\"\"\n\u001b[0;32m     26\u001b[0m     \u001b[0mvec\u001b[0m \u001b[1;33m=\u001b[0m \u001b[0mimage_to_vector\u001b[0m\u001b[1;33m(\u001b[0m\u001b[0mimage\u001b[0m\u001b[1;33m)\u001b[0m\u001b[1;33m\u001b[0m\u001b[1;33m\u001b[0m\u001b[0m\n\u001b[1;32m---> 27\u001b[1;33m     \u001b[0mvec_sim\u001b[0m \u001b[1;33m=\u001b[0m \u001b[0mfind_similar_vector_id\u001b[0m\u001b[1;33m(\u001b[0m\u001b[0mvec\u001b[0m\u001b[1;33m)\u001b[0m\u001b[1;33m\u001b[0m\u001b[1;33m\u001b[0m\u001b[0m\n\u001b[0m\u001b[0;32m     28\u001b[0m     \u001b[1;31m# code = find_code(vec_sim)\u001b[0m\u001b[1;33m\u001b[0m\u001b[1;33m\u001b[0m\u001b[1;33m\u001b[0m\u001b[0m\n\u001b[0;32m     29\u001b[0m     \u001b[1;31m# return find_image(code)\u001b[0m\u001b[1;33m\u001b[0m\u001b[1;33m\u001b[0m\u001b[1;33m\u001b[0m\u001b[0m\n",
      "\u001b[1;31mTypeError\u001b[0m: find_similar_vector_id() missing 1 required positional argument: 'nb_id'"
     ]
    }
   ],
   "source": [
    "path_dossier_image = \"../data/image/00000006.jpg\"\n",
    "image_to_code(path_dossier_image)"
   ]
  },
  {
   "cell_type": "code",
   "execution_count": null,
   "metadata": {},
   "outputs": [],
   "source": [
    "l =['00000006.jpg', '00000024.jpg', '00001801051082969226.jpg', '00020009001820002310.jpg', '00020012101720003074.jpg', \n",
    "    '00020233801719002408.jpg', '00020526001720004010.jpg', '00020601205721007456.jpg', '00020603803020006071.jpg', \n",
    "    '00020608703020006642.jpg', '00020608703020007526.jpg', '00020611803020006162.jpg', '00020616703020006665.jpg', \n",
    "    '00020621103019006973.jpg', '00020625905720005841.jpg', '00020631603020006353.jpg', '00020634303019006445.jpg', \n",
    "    '00020634303019007404.jpg', '00020726901319004347.jpg', '00020726901319005085.jpg', '00020801303021003944.jpg', \n",
    "    '00020804203020002832.jpg', '00020813503020003470.jpg', '00020920403819003379.jpg', '00020926201319002885.jpg',\n",
    "    '00020927601819003280.jpg', '00020929601819003486.jpg', '00020933501820002849.jpg', '00020933903819003002.jpg',\n",
    "    '00021104905720004591.jpg', '00021124603020004740.jpg', '00021309402219005402.jpg', '00021309502220004231.jpg',\n",
    "    '00021631900419000006.jpg', '00021632500419000007.jpg', '00021822406620003008.jpg', '00023400705720005223.jpg',\n",
    "    '00023421203020004449.jpg', '00023432901320005291.jpg', '00023434603019005145.jpg', '00023434603019006548.jpg',\n",
    "    '00023513400420000006.jpg', '00023517400420000002.jpg', '00024521401819000009.jpg', '00024734401719000002.jpg',\n",
    "    '00030422501319002297.jpg', '00030429001720002167.jpg', '00031512002320004342.jpg', '00031519801819003728.jpg',\n",
    "    '00032914803220000004.jpg']\n"
   ]
  }
 ],
 "metadata": {
  "kernelspec": {
   "display_name": "Python 3",
   "language": "python",
   "name": "python3"
  },
  "language_info": {
   "codemirror_mode": {
    "name": "ipython",
    "version": 3
   },
   "file_extension": ".py",
   "mimetype": "text/x-python",
   "name": "python",
   "nbconvert_exporter": "python",
   "pygments_lexer": "ipython3",
   "version": "3.8.5"
  }
 },
 "nbformat": 4,
 "nbformat_minor": 2
}
