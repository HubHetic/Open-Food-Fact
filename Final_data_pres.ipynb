{
 "cells": [
  {
   "cell_type": "markdown",
   "metadata": {},
   "source": [
    "# Import data \n"
   ]
  },
  {
   "cell_type": "code",
   "execution_count": 61,
   "metadata": {},
   "outputs": [],
   "source": [
    "import pandas as pd\n",
    "import numpy as np\n",
    "import matplotlib.pyplot as plt"
   ]
  },
  {
   "cell_type": "code",
   "execution_count": 62,
   "metadata": {},
   "outputs": [],
   "source": [
    "df = pd.read_csv(\"en.openfoodfacts.org.products.csv\", sep='\\t' ,encoding = 'UTF-8', low_memory=False )"
   ]
  },
  {
   "cell_type": "markdown",
   "metadata": {},
   "source": [
    "# Visualisation\n"
   ]
  },
  {
   "cell_type": "code",
   "execution_count": 63,
   "metadata": {},
   "outputs": [
    {
     "data": {
      "text/html": [
       "<div>\n",
       "<style scoped>\n",
       "    .dataframe tbody tr th:only-of-type {\n",
       "        vertical-align: middle;\n",
       "    }\n",
       "\n",
       "    .dataframe tbody tr th {\n",
       "        vertical-align: top;\n",
       "    }\n",
       "\n",
       "    .dataframe thead th {\n",
       "        text-align: right;\n",
       "    }\n",
       "</style>\n",
       "<table border=\"1\" class=\"dataframe\">\n",
       "  <thead>\n",
       "    <tr style=\"text-align: right;\">\n",
       "      <th></th>\n",
       "      <th>code</th>\n",
       "      <th>url</th>\n",
       "      <th>creator</th>\n",
       "      <th>created_t</th>\n",
       "      <th>created_datetime</th>\n",
       "      <th>last_modified_t</th>\n",
       "      <th>last_modified_datetime</th>\n",
       "      <th>product_name</th>\n",
       "      <th>abbreviated_product_name</th>\n",
       "      <th>generic_name</th>\n",
       "      <th>...</th>\n",
       "      <th>carbon-footprint-from-meat-or-fish_100g</th>\n",
       "      <th>nutrition-score-fr_100g</th>\n",
       "      <th>nutrition-score-uk_100g</th>\n",
       "      <th>glycemic-index_100g</th>\n",
       "      <th>water-hardness_100g</th>\n",
       "      <th>choline_100g</th>\n",
       "      <th>phylloquinone_100g</th>\n",
       "      <th>beta-glucan_100g</th>\n",
       "      <th>inositol_100g</th>\n",
       "      <th>carnitine_100g</th>\n",
       "    </tr>\n",
       "  </thead>\n",
       "  <tbody>\n",
       "    <tr>\n",
       "      <th>1652704</th>\n",
       "      <td>9999999168505</td>\n",
       "      <td>http://world-en.openfoodfacts.org/product/9999...</td>\n",
       "      <td>openfoodfacts-contributors</td>\n",
       "      <td>1612050440</td>\n",
       "      <td>2021-01-30T23:47:20Z</td>\n",
       "      <td>1612100867</td>\n",
       "      <td>2021-01-31T13:47:47Z</td>\n",
       "      <td>جاري التحميل…</td>\n",
       "      <td>NaN</td>\n",
       "      <td>NaN</td>\n",
       "      <td>...</td>\n",
       "      <td>NaN</td>\n",
       "      <td>NaN</td>\n",
       "      <td>NaN</td>\n",
       "      <td>NaN</td>\n",
       "      <td>NaN</td>\n",
       "      <td>NaN</td>\n",
       "      <td>NaN</td>\n",
       "      <td>NaN</td>\n",
       "      <td>NaN</td>\n",
       "      <td>NaN</td>\n",
       "    </tr>\n",
       "    <tr>\n",
       "      <th>1652705</th>\n",
       "      <td>9999999175305</td>\n",
       "      <td>http://world-en.openfoodfacts.org/product/9999...</td>\n",
       "      <td>sil</td>\n",
       "      <td>1577002381</td>\n",
       "      <td>2019-12-22T08:13:01Z</td>\n",
       "      <td>1596533045</td>\n",
       "      <td>2020-08-04T09:24:05Z</td>\n",
       "      <td>Erdbeerkuchen 1019g tiefgefroren</td>\n",
       "      <td>NaN</td>\n",
       "      <td>NaN</td>\n",
       "      <td>...</td>\n",
       "      <td>NaN</td>\n",
       "      <td>12.0</td>\n",
       "      <td>NaN</td>\n",
       "      <td>NaN</td>\n",
       "      <td>NaN</td>\n",
       "      <td>NaN</td>\n",
       "      <td>NaN</td>\n",
       "      <td>NaN</td>\n",
       "      <td>NaN</td>\n",
       "      <td>NaN</td>\n",
       "    </tr>\n",
       "    <tr>\n",
       "      <th>1652706</th>\n",
       "      <td>99999995</td>\n",
       "      <td>http://world-en.openfoodfacts.org/product/9999...</td>\n",
       "      <td>kiliweb</td>\n",
       "      <td>1538818432</td>\n",
       "      <td>2018-10-06T09:33:52Z</td>\n",
       "      <td>1607508961</td>\n",
       "      <td>2020-12-09T10:16:01Z</td>\n",
       "      <td>Steak haché pur boeuf</td>\n",
       "      <td>NaN</td>\n",
       "      <td>NaN</td>\n",
       "      <td>...</td>\n",
       "      <td>NaN</td>\n",
       "      <td>-2.0</td>\n",
       "      <td>NaN</td>\n",
       "      <td>NaN</td>\n",
       "      <td>NaN</td>\n",
       "      <td>NaN</td>\n",
       "      <td>NaN</td>\n",
       "      <td>NaN</td>\n",
       "      <td>NaN</td>\n",
       "      <td>NaN</td>\n",
       "    </tr>\n",
       "    <tr>\n",
       "      <th>1652707</th>\n",
       "      <td>9999999900686</td>\n",
       "      <td>http://world-en.openfoodfacts.org/product/9999...</td>\n",
       "      <td>kiliweb</td>\n",
       "      <td>1563261470</td>\n",
       "      <td>2019-07-16T07:17:50Z</td>\n",
       "      <td>1588865820</td>\n",
       "      <td>2020-05-07T15:37:00Z</td>\n",
       "      <td>Marrons glacés</td>\n",
       "      <td>NaN</td>\n",
       "      <td>NaN</td>\n",
       "      <td>...</td>\n",
       "      <td>NaN</td>\n",
       "      <td>NaN</td>\n",
       "      <td>NaN</td>\n",
       "      <td>NaN</td>\n",
       "      <td>NaN</td>\n",
       "      <td>NaN</td>\n",
       "      <td>NaN</td>\n",
       "      <td>NaN</td>\n",
       "      <td>NaN</td>\n",
       "      <td>NaN</td>\n",
       "    </tr>\n",
       "    <tr>\n",
       "      <th>1652708</th>\n",
       "      <td>9999999901</td>\n",
       "      <td>http://world-en.openfoodfacts.org/product/9999...</td>\n",
       "      <td>kiliweb</td>\n",
       "      <td>1585068504</td>\n",
       "      <td>2020-03-24T16:48:24Z</td>\n",
       "      <td>1585068505</td>\n",
       "      <td>2020-03-24T16:48:25Z</td>\n",
       "      <td>Scs</td>\n",
       "      <td>NaN</td>\n",
       "      <td>NaN</td>\n",
       "      <td>...</td>\n",
       "      <td>NaN</td>\n",
       "      <td>NaN</td>\n",
       "      <td>NaN</td>\n",
       "      <td>NaN</td>\n",
       "      <td>NaN</td>\n",
       "      <td>NaN</td>\n",
       "      <td>NaN</td>\n",
       "      <td>NaN</td>\n",
       "      <td>NaN</td>\n",
       "      <td>NaN</td>\n",
       "    </tr>\n",
       "    <tr>\n",
       "      <th>1652709</th>\n",
       "      <td>9999999910128</td>\n",
       "      <td>http://world-en.openfoodfacts.org/product/9999...</td>\n",
       "      <td>kiliweb</td>\n",
       "      <td>1572513866</td>\n",
       "      <td>2019-10-31T09:24:26Z</td>\n",
       "      <td>1572513866</td>\n",
       "      <td>2019-10-31T09:24:26Z</td>\n",
       "      <td>Sandwich club Rillette poisson combava</td>\n",
       "      <td>NaN</td>\n",
       "      <td>NaN</td>\n",
       "      <td>...</td>\n",
       "      <td>NaN</td>\n",
       "      <td>NaN</td>\n",
       "      <td>NaN</td>\n",
       "      <td>NaN</td>\n",
       "      <td>NaN</td>\n",
       "      <td>NaN</td>\n",
       "      <td>NaN</td>\n",
       "      <td>NaN</td>\n",
       "      <td>NaN</td>\n",
       "      <td>NaN</td>\n",
       "    </tr>\n",
       "    <tr>\n",
       "      <th>1652710</th>\n",
       "      <td>999999999</td>\n",
       "      <td>http://world-en.openfoodfacts.org/product/9999...</td>\n",
       "      <td>nutrinet-sante</td>\n",
       "      <td>1608105503</td>\n",
       "      <td>2020-12-16T07:58:23Z</td>\n",
       "      <td>1608105504</td>\n",
       "      <td>2020-12-16T07:58:24Z</td>\n",
       "      <td>Thé noir BIO Darjeeling</td>\n",
       "      <td>NaN</td>\n",
       "      <td>NaN</td>\n",
       "      <td>...</td>\n",
       "      <td>NaN</td>\n",
       "      <td>NaN</td>\n",
       "      <td>NaN</td>\n",
       "      <td>NaN</td>\n",
       "      <td>NaN</td>\n",
       "      <td>NaN</td>\n",
       "      <td>NaN</td>\n",
       "      <td>NaN</td>\n",
       "      <td>NaN</td>\n",
       "      <td>NaN</td>\n",
       "    </tr>\n",
       "    <tr>\n",
       "      <th>1652711</th>\n",
       "      <td>9999999990397</td>\n",
       "      <td>http://world-en.openfoodfacts.org/product/9999...</td>\n",
       "      <td>kiliweb</td>\n",
       "      <td>1581171613</td>\n",
       "      <td>2020-02-08T14:20:13Z</td>\n",
       "      <td>1582644247</td>\n",
       "      <td>2020-02-25T15:24:07Z</td>\n",
       "      <td>Fati</td>\n",
       "      <td>NaN</td>\n",
       "      <td>NaN</td>\n",
       "      <td>...</td>\n",
       "      <td>NaN</td>\n",
       "      <td>NaN</td>\n",
       "      <td>NaN</td>\n",
       "      <td>NaN</td>\n",
       "      <td>NaN</td>\n",
       "      <td>NaN</td>\n",
       "      <td>NaN</td>\n",
       "      <td>NaN</td>\n",
       "      <td>NaN</td>\n",
       "      <td>NaN</td>\n",
       "    </tr>\n",
       "    <tr>\n",
       "      <th>1652712</th>\n",
       "      <td>9999999999994</td>\n",
       "      <td>http://world-en.openfoodfacts.org/product/9999...</td>\n",
       "      <td>kiliweb</td>\n",
       "      <td>1613129728</td>\n",
       "      <td>2021-02-12T11:35:28Z</td>\n",
       "      <td>1613129730</td>\n",
       "      <td>2021-02-12T11:35:30Z</td>\n",
       "      <td>Light &amp; Free SKYR A BOIRE</td>\n",
       "      <td>NaN</td>\n",
       "      <td>NaN</td>\n",
       "      <td>...</td>\n",
       "      <td>NaN</td>\n",
       "      <td>NaN</td>\n",
       "      <td>NaN</td>\n",
       "      <td>NaN</td>\n",
       "      <td>NaN</td>\n",
       "      <td>NaN</td>\n",
       "      <td>NaN</td>\n",
       "      <td>NaN</td>\n",
       "      <td>NaN</td>\n",
       "      <td>NaN</td>\n",
       "    </tr>\n",
       "    <tr>\n",
       "      <th>1652713</th>\n",
       "      <td>999999999999999</td>\n",
       "      <td>http://world-en.openfoodfacts.org/product/9999...</td>\n",
       "      <td>openfoodfacts-contributors</td>\n",
       "      <td>1587222660</td>\n",
       "      <td>2020-04-18T15:11:00Z</td>\n",
       "      <td>1605558295</td>\n",
       "      <td>2020-11-16T20:24:55Z</td>\n",
       "      <td>Signal Toothpaste</td>\n",
       "      <td>NaN</td>\n",
       "      <td>NaN</td>\n",
       "      <td>...</td>\n",
       "      <td>NaN</td>\n",
       "      <td>NaN</td>\n",
       "      <td>NaN</td>\n",
       "      <td>NaN</td>\n",
       "      <td>NaN</td>\n",
       "      <td>NaN</td>\n",
       "      <td>NaN</td>\n",
       "      <td>NaN</td>\n",
       "      <td>NaN</td>\n",
       "      <td>NaN</td>\n",
       "    </tr>\n",
       "  </tbody>\n",
       "</table>\n",
       "<p>10 rows × 184 columns</p>\n",
       "</div>"
      ],
      "text/plain": [
       "                    code                                                url  \\\n",
       "1652704    9999999168505  http://world-en.openfoodfacts.org/product/9999...   \n",
       "1652705    9999999175305  http://world-en.openfoodfacts.org/product/9999...   \n",
       "1652706         99999995  http://world-en.openfoodfacts.org/product/9999...   \n",
       "1652707    9999999900686  http://world-en.openfoodfacts.org/product/9999...   \n",
       "1652708       9999999901  http://world-en.openfoodfacts.org/product/9999...   \n",
       "1652709    9999999910128  http://world-en.openfoodfacts.org/product/9999...   \n",
       "1652710        999999999  http://world-en.openfoodfacts.org/product/9999...   \n",
       "1652711    9999999990397  http://world-en.openfoodfacts.org/product/9999...   \n",
       "1652712    9999999999994  http://world-en.openfoodfacts.org/product/9999...   \n",
       "1652713  999999999999999  http://world-en.openfoodfacts.org/product/9999...   \n",
       "\n",
       "                            creator   created_t      created_datetime  \\\n",
       "1652704  openfoodfacts-contributors  1612050440  2021-01-30T23:47:20Z   \n",
       "1652705                         sil  1577002381  2019-12-22T08:13:01Z   \n",
       "1652706                     kiliweb  1538818432  2018-10-06T09:33:52Z   \n",
       "1652707                     kiliweb  1563261470  2019-07-16T07:17:50Z   \n",
       "1652708                     kiliweb  1585068504  2020-03-24T16:48:24Z   \n",
       "1652709                     kiliweb  1572513866  2019-10-31T09:24:26Z   \n",
       "1652710              nutrinet-sante  1608105503  2020-12-16T07:58:23Z   \n",
       "1652711                     kiliweb  1581171613  2020-02-08T14:20:13Z   \n",
       "1652712                     kiliweb  1613129728  2021-02-12T11:35:28Z   \n",
       "1652713  openfoodfacts-contributors  1587222660  2020-04-18T15:11:00Z   \n",
       "\n",
       "         last_modified_t last_modified_datetime  \\\n",
       "1652704       1612100867   2021-01-31T13:47:47Z   \n",
       "1652705       1596533045   2020-08-04T09:24:05Z   \n",
       "1652706       1607508961   2020-12-09T10:16:01Z   \n",
       "1652707       1588865820   2020-05-07T15:37:00Z   \n",
       "1652708       1585068505   2020-03-24T16:48:25Z   \n",
       "1652709       1572513866   2019-10-31T09:24:26Z   \n",
       "1652710       1608105504   2020-12-16T07:58:24Z   \n",
       "1652711       1582644247   2020-02-25T15:24:07Z   \n",
       "1652712       1613129730   2021-02-12T11:35:30Z   \n",
       "1652713       1605558295   2020-11-16T20:24:55Z   \n",
       "\n",
       "                                   product_name abbreviated_product_name  \\\n",
       "1652704                           جاري التحميل…                      NaN   \n",
       "1652705        Erdbeerkuchen 1019g tiefgefroren                      NaN   \n",
       "1652706                   Steak haché pur boeuf                      NaN   \n",
       "1652707                          Marrons glacés                      NaN   \n",
       "1652708                                     Scs                      NaN   \n",
       "1652709  Sandwich club Rillette poisson combava                      NaN   \n",
       "1652710                 Thé noir BIO Darjeeling                      NaN   \n",
       "1652711                                    Fati                      NaN   \n",
       "1652712               Light & Free SKYR A BOIRE                      NaN   \n",
       "1652713                       Signal Toothpaste                      NaN   \n",
       "\n",
       "        generic_name  ... carbon-footprint-from-meat-or-fish_100g  \\\n",
       "1652704          NaN  ...                                     NaN   \n",
       "1652705          NaN  ...                                     NaN   \n",
       "1652706          NaN  ...                                     NaN   \n",
       "1652707          NaN  ...                                     NaN   \n",
       "1652708          NaN  ...                                     NaN   \n",
       "1652709          NaN  ...                                     NaN   \n",
       "1652710          NaN  ...                                     NaN   \n",
       "1652711          NaN  ...                                     NaN   \n",
       "1652712          NaN  ...                                     NaN   \n",
       "1652713          NaN  ...                                     NaN   \n",
       "\n",
       "        nutrition-score-fr_100g nutrition-score-uk_100g glycemic-index_100g  \\\n",
       "1652704                     NaN                     NaN                 NaN   \n",
       "1652705                    12.0                     NaN                 NaN   \n",
       "1652706                    -2.0                     NaN                 NaN   \n",
       "1652707                     NaN                     NaN                 NaN   \n",
       "1652708                     NaN                     NaN                 NaN   \n",
       "1652709                     NaN                     NaN                 NaN   \n",
       "1652710                     NaN                     NaN                 NaN   \n",
       "1652711                     NaN                     NaN                 NaN   \n",
       "1652712                     NaN                     NaN                 NaN   \n",
       "1652713                     NaN                     NaN                 NaN   \n",
       "\n",
       "        water-hardness_100g choline_100g phylloquinone_100g beta-glucan_100g  \\\n",
       "1652704                 NaN          NaN                NaN              NaN   \n",
       "1652705                 NaN          NaN                NaN              NaN   \n",
       "1652706                 NaN          NaN                NaN              NaN   \n",
       "1652707                 NaN          NaN                NaN              NaN   \n",
       "1652708                 NaN          NaN                NaN              NaN   \n",
       "1652709                 NaN          NaN                NaN              NaN   \n",
       "1652710                 NaN          NaN                NaN              NaN   \n",
       "1652711                 NaN          NaN                NaN              NaN   \n",
       "1652712                 NaN          NaN                NaN              NaN   \n",
       "1652713                 NaN          NaN                NaN              NaN   \n",
       "\n",
       "        inositol_100g carnitine_100g  \n",
       "1652704           NaN            NaN  \n",
       "1652705           NaN            NaN  \n",
       "1652706           NaN            NaN  \n",
       "1652707           NaN            NaN  \n",
       "1652708           NaN            NaN  \n",
       "1652709           NaN            NaN  \n",
       "1652710           NaN            NaN  \n",
       "1652711           NaN            NaN  \n",
       "1652712           NaN            NaN  \n",
       "1652713           NaN            NaN  \n",
       "\n",
       "[10 rows x 184 columns]"
      ]
     },
     "execution_count": 63,
     "metadata": {},
     "output_type": "execute_result"
    }
   ],
   "source": [
    "df.tail(10)"
   ]
  },
  {
   "cell_type": "code",
   "execution_count": 64,
   "metadata": {},
   "outputs": [
    {
     "data": {
      "text/plain": [
       "(1652714, 184)"
      ]
     },
     "execution_count": 64,
     "metadata": {},
     "output_type": "execute_result"
    }
   ],
   "source": [
    "df.shape"
   ]
  },
  {
   "cell_type": "code",
   "execution_count": 65,
   "metadata": {},
   "outputs": [
    {
     "data": {
      "text/plain": [
       "2"
      ]
     },
     "execution_count": 65,
     "metadata": {},
     "output_type": "execute_result"
    }
   ],
   "source": [
    "df.duplicated().sum()"
   ]
  },
  {
   "cell_type": "code",
   "execution_count": 66,
   "metadata": {},
   "outputs": [
    {
     "data": {
      "text/plain": [
       "code                   object\n",
       "url                    object\n",
       "creator                object\n",
       "created_t               int64\n",
       "created_datetime       object\n",
       "                       ...   \n",
       "choline_100g          float64\n",
       "phylloquinone_100g    float64\n",
       "beta-glucan_100g      float64\n",
       "inositol_100g         float64\n",
       "carnitine_100g        float64\n",
       "Length: 184, dtype: object"
      ]
     },
     "execution_count": 66,
     "metadata": {},
     "output_type": "execute_result"
    }
   ],
   "source": [
    "df.dtypes"
   ]
  },
  {
   "cell_type": "markdown",
   "metadata": {},
   "source": [
    "# Data clean "
   ]
  },
  {
   "cell_type": "code",
   "execution_count": 67,
   "metadata": {},
   "outputs": [],
   "source": [
    "#drop na des colonnes qui ns intéresse en prio\n",
    "#image_url : l'url permettant d'acceder à notre image,\n",
    "#product_name : le nom de notre produit\n",
    "#brands : la marque associé au produit"
   ]
  },
  {
   "cell_type": "code",
   "execution_count": 68,
   "metadata": {},
   "outputs": [],
   "source": [
    "df.dropna(inplace=True, subset=['image_url','product_name','brands'])"
   ]
  },
  {
   "cell_type": "code",
   "execution_count": 69,
   "metadata": {},
   "outputs": [
    {
     "data": {
      "text/plain": [
       "(639178, 184)"
      ]
     },
     "execution_count": 69,
     "metadata": {},
     "output_type": "execute_result"
    }
   ],
   "source": [
    "df.shape"
   ]
  },
  {
   "cell_type": "code",
   "execution_count": 70,
   "metadata": {},
   "outputs": [],
   "source": [
    "#data uniquement lié a kiliweb aka juna\n",
    "df = df[df[\"creator\"] == \"kiliweb\"]"
   ]
  },
  {
   "cell_type": "code",
   "execution_count": 120,
   "metadata": {},
   "outputs": [],
   "source": [
    "#langue uniquement en français\n",
    "df = df[df[\"countries_tags\"]== \"en:france\"]"
   ]
  },
  {
   "cell_type": "code",
   "execution_count": 71,
   "metadata": {},
   "outputs": [
    {
     "data": {
      "text/plain": [
       "(349815, 184)"
      ]
     },
     "execution_count": 71,
     "metadata": {},
     "output_type": "execute_result"
    }
   ],
   "source": [
    "df.shape"
   ]
  },
  {
   "cell_type": "code",
   "execution_count": 72,
   "metadata": {},
   "outputs": [],
   "source": [
    "#colonne 100% vide\n",
    "df.drop('states',1, inplace=True)\n",
    "df.drop('states_tags',1, inplace=True)\n",
    "df.drop('states_en',1, inplace=True)"
   ]
  },
  {
   "cell_type": "code",
   "execution_count": 73,
   "metadata": {},
   "outputs": [],
   "source": [
    "## Na remplis a la place unkown  >98% vide indiquait le genre2\n",
    "df.drop('pnns_groups_2',1, inplace=True)"
   ]
  },
  {
   "cell_type": "code",
   "execution_count": 74,
   "metadata": {},
   "outputs": [],
   "source": [
    "## Na remplis a la place unkown  >98% vide, indiquait le genre\n",
    "df.drop('pnns_groups_1',1, inplace=True)"
   ]
  },
  {
   "cell_type": "code",
   "execution_count": 75,
   "metadata": {
    "scrolled": false
   },
   "outputs": [
    {
     "name": "stdout",
     "output_type": "stream",
     "text": [
      "code : 0.0\n",
      "url : 0.0\n",
      "creator : 0.0\n",
      "created_t : 0.0\n",
      "created_datetime : 0.0\n",
      "last_modified_t : 0.0\n",
      "last_modified_datetime : 0.0\n",
      "product_name : 0.0\n",
      "abbreviated_product_name : 0.99865\n",
      "generic_name : 0.94146\n",
      "quantity : 0.67945\n",
      "packaging : 0.81811\n",
      "packaging_tags : 0.81813\n",
      "packaging_text : 0.99787\n",
      "brands : 0.0\n",
      "brands_tags : 7e-05\n",
      "categories : 0.47007\n",
      "categories_tags : 0.47007\n",
      "categories_en : 0.47007\n",
      "origins : 0.95446\n",
      "origins_tags : 0.9545\n",
      "origins_en : 0.9545\n",
      "manufacturing_places : 0.9383\n",
      "manufacturing_places_tags : 0.93833\n",
      "labels : 0.64541\n",
      "labels_tags : 0.64536\n",
      "labels_en : 0.64536\n",
      "emb_codes : 0.91831\n",
      "emb_codes_tags : 0.91831\n",
      "first_packaging_code_geo : 0.9426\n",
      "cities : 1.0\n",
      "cities_tags : 0.93766\n",
      "purchase_places : 0.92716\n",
      "stores : 0.80053\n",
      "countries : 0.00052\n",
      "countries_tags : 0.00052\n",
      "countries_en : 0.00052\n",
      "ingredients_text : 0.63837\n",
      "allergens : 0.88927\n",
      "allergens_en : 1.0\n",
      "traces : 0.92023\n",
      "traces_tags : 0.88505\n",
      "traces_en : 0.88505\n",
      "serving_size : 0.91391\n",
      "serving_quantity : 0.92162\n",
      "no_nutriments : 1.0\n",
      "additives_n : 0.63837\n",
      "additives : 1.0\n",
      "additives_tags : 0.80989\n",
      "additives_en : 0.80989\n",
      "ingredients_from_palm_oil_n : 0.63837\n",
      "ingredients_from_palm_oil : 1.0\n",
      "ingredients_from_palm_oil_tags : 0.98379\n",
      "ingredients_that_may_be_from_palm_oil_n : 0.63837\n",
      "ingredients_that_may_be_from_palm_oil : 1.0\n",
      "ingredients_that_may_be_from_palm_oil_tags : 0.9697\n",
      "nutriscore_score : 0.53503\n",
      "nutriscore_grade : 0.53503\n",
      "nova_group : 0.70733\n",
      "brand_owner : 0.99831\n",
      "main_category : 0.47007\n",
      "main_category_en : 0.47007\n",
      "image_url : 0.0\n",
      "image_small_url : 0.0\n",
      "image_ingredients_url : 0.37622\n",
      "image_ingredients_small_url : 0.37622\n",
      "image_nutrition_url : 0.35426\n",
      "image_nutrition_small_url : 0.35426\n",
      "energy-kj_100g : 0.92443\n",
      "energy-kcal_100g : 0.09973\n",
      "energy_100g : 0.08102\n",
      "energy-from-fat_100g : 0.99996\n",
      "fat_100g : 0.088\n",
      "saturated-fat_100g : 0.08376\n",
      "-butyric-acid_100g : 1.0\n",
      "-caproic-acid_100g : 1.0\n",
      "-caprylic-acid_100g : 1.0\n",
      "-capric-acid_100g : 1.0\n",
      "-lauric-acid_100g : 0.99999\n",
      "-myristic-acid_100g : 1.0\n",
      "-palmitic-acid_100g : 1.0\n",
      "-stearic-acid_100g : 1.0\n",
      "-arachidic-acid_100g : 0.99998\n",
      "-behenic-acid_100g : 0.99999\n",
      "-lignoceric-acid_100g : 1.0\n",
      "-cerotic-acid_100g : 1.0\n",
      "-montanic-acid_100g : 0.99999\n",
      "-melissic-acid_100g : 0.99999\n",
      "monounsaturated-fat_100g : 0.99723\n",
      "polyunsaturated-fat_100g : 0.99722\n",
      "omega-3-fat_100g : 0.99889\n",
      "-alpha-linolenic-acid_100g : 0.99975\n",
      "-eicosapentaenoic-acid_100g : 0.99994\n",
      "-docosahexaenoic-acid_100g : 0.99991\n",
      "omega-6-fat_100g : 0.99979\n",
      "-linoleic-acid_100g : 0.9999\n",
      "-arachidonic-acid_100g : 0.99997\n",
      "-gamma-linolenic-acid_100g : 0.99999\n",
      "-dihomo-gamma-linolenic-acid_100g : 1.0\n",
      "omega-9-fat_100g : 0.99996\n",
      "-oleic-acid_100g : 0.99998\n",
      "-elaidic-acid_100g : 1.0\n",
      "-gondoic-acid_100g : 0.99999\n",
      "-mead-acid_100g : 1.0\n",
      "-erucic-acid_100g : 1.0\n",
      "-nervonic-acid_100g : 1.0\n",
      "trans-fat_100g : 0.99814\n",
      "cholesterol_100g : 0.99808\n",
      "carbohydrates_100g : 0.08787\n",
      "sugars_100g : 0.08452\n",
      "-sucrose_100g : 0.99999\n",
      "-glucose_100g : 0.99997\n",
      "-fructose_100g : 0.99997\n",
      "-lactose_100g : 0.99971\n",
      "-maltose_100g : 0.99999\n",
      "-maltodextrins_100g : 0.99994\n",
      "starch_100g : 0.99977\n",
      "polyols_100g : 0.99937\n",
      "fiber_100g : 0.78037\n",
      "-soluble-fiber_100g : 0.99981\n",
      "-insoluble-fiber_100g : 0.99983\n",
      "proteins_100g : 0.08417\n",
      "casein_100g : 0.99998\n",
      "serum-proteins_100g : 0.99999\n",
      "nucleotides_100g : 0.99999\n",
      "salt_100g : 0.09979\n",
      "sodium_100g : 0.09979\n",
      "alcohol_100g : 0.99413\n",
      "vitamin-a_100g : 0.99808\n",
      "beta-carotene_100g : 0.99998\n",
      "vitamin-d_100g : 0.99829\n",
      "vitamin-e_100g : 0.99824\n",
      "vitamin-k_100g : 0.99985\n",
      "vitamin-c_100g : 0.99705\n",
      "vitamin-b1_100g : 0.99813\n",
      "vitamin-b2_100g : 0.99835\n",
      "vitamin-pp_100g : 0.99855\n",
      "vitamin-b6_100g : 0.99818\n",
      "vitamin-b9_100g : 0.99893\n",
      "folates_100g : 0.99976\n",
      "vitamin-b12_100g : 0.99831\n",
      "biotin_100g : 0.99963\n",
      "pantothenic-acid_100g : 0.9993\n",
      "silica_100g : 0.99996\n",
      "bicarbonate_100g : 0.99989\n",
      "potassium_100g : 0.9979\n",
      "chloride_100g : 0.99977\n",
      "calcium_100g : 0.99329\n",
      "phosphorus_100g : 0.99843\n",
      "iron_100g : 0.99653\n",
      "magnesium_100g : 0.99787\n",
      "zinc_100g : 0.99898\n",
      "copper_100g : 0.99963\n",
      "manganese_100g : 0.99965\n",
      "fluoride_100g : 0.99991\n",
      "selenium_100g : 0.99971\n",
      "chromium_100g : 0.99993\n",
      "molybdenum_100g : 0.99994\n",
      "iodine_100g : 0.99964\n",
      "caffeine_100g : 0.9999\n",
      "taurine_100g : 0.99997\n",
      "ph_100g : 0.99995\n",
      "fruits-vegetables-nuts_100g : 0.98988\n",
      "fruits-vegetables-nuts-dried_100g : 0.99956\n",
      "fruits-vegetables-nuts-estimate_100g : 0.98016\n",
      "collagen-meat-protein-ratio_100g : 0.99973\n",
      "cocoa_100g : 0.9917\n",
      "chlorophyl_100g : 0.99999\n",
      "carbon-footprint_100g : 0.99984\n",
      "carbon-footprint-from-meat-or-fish_100g : 0.9852\n",
      "nutrition-score-fr_100g : 0.53503\n",
      "nutrition-score-uk_100g : 1.0\n",
      "glycemic-index_100g : 0.99999\n",
      "water-hardness_100g : 1.0\n",
      "choline_100g : 0.99999\n",
      "phylloquinone_100g : 0.99998\n",
      "beta-glucan_100g : 0.99999\n",
      "inositol_100g : 0.99999\n",
      "carnitine_100g : 1.0\n"
     ]
    }
   ],
   "source": [
    "t = tuple(zip(df.columns.values.tolist(), ((np.array(df.isna().sum().tolist()) / df.shape[0]) )))\n",
    "t \n",
    "for i in t :\n",
    "    print(f\"{i[0]} : {round(i[1],5)}\")\n",
    "\n"
   ]
  },
  {
   "cell_type": "code",
   "execution_count": 83,
   "metadata": {},
   "outputs": [],
   "source": [
    "#suppriles les colonnes avec plus de 90% de NaN\n",
    "a = [i[0] for i in t if i[1] > 0.95]\n",
    "df.drop(a ,1, inplace=True)\n",
    "    "
   ]
  },
  {
   "cell_type": "code",
   "execution_count": 84,
   "metadata": {},
   "outputs": [
    {
     "data": {
      "text/plain": [
       "(349815, 66)"
      ]
     },
     "execution_count": 84,
     "metadata": {},
     "output_type": "execute_result"
    }
   ],
   "source": [
    "df.shape"
   ]
  },
  {
   "cell_type": "code",
   "execution_count": 85,
   "metadata": {
    "scrolled": true
   },
   "outputs": [
    {
     "data": {
      "text/plain": [
       "['code',\n",
       " 'url',\n",
       " 'creator',\n",
       " 'created_t',\n",
       " 'created_datetime',\n",
       " 'last_modified_t',\n",
       " 'last_modified_datetime',\n",
       " 'product_name',\n",
       " 'generic_name',\n",
       " 'quantity',\n",
       " 'packaging',\n",
       " 'packaging_tags',\n",
       " 'brands',\n",
       " 'brands_tags',\n",
       " 'categories',\n",
       " 'categories_tags',\n",
       " 'categories_en',\n",
       " 'manufacturing_places',\n",
       " 'manufacturing_places_tags',\n",
       " 'labels',\n",
       " 'labels_tags',\n",
       " 'labels_en',\n",
       " 'emb_codes',\n",
       " 'emb_codes_tags',\n",
       " 'first_packaging_code_geo',\n",
       " 'cities_tags',\n",
       " 'purchase_places',\n",
       " 'stores',\n",
       " 'countries',\n",
       " 'countries_tags',\n",
       " 'countries_en',\n",
       " 'ingredients_text',\n",
       " 'allergens',\n",
       " 'traces',\n",
       " 'traces_tags',\n",
       " 'traces_en',\n",
       " 'serving_size',\n",
       " 'serving_quantity',\n",
       " 'additives_n',\n",
       " 'additives_tags',\n",
       " 'additives_en',\n",
       " 'ingredients_from_palm_oil_n',\n",
       " 'ingredients_that_may_be_from_palm_oil_n',\n",
       " 'nutriscore_score',\n",
       " 'nutriscore_grade',\n",
       " 'nova_group',\n",
       " 'main_category',\n",
       " 'main_category_en',\n",
       " 'image_url',\n",
       " 'image_small_url',\n",
       " 'image_ingredients_url',\n",
       " 'image_ingredients_small_url',\n",
       " 'image_nutrition_url',\n",
       " 'image_nutrition_small_url',\n",
       " 'energy-kj_100g',\n",
       " 'energy-kcal_100g',\n",
       " 'energy_100g',\n",
       " 'fat_100g',\n",
       " 'saturated-fat_100g',\n",
       " 'carbohydrates_100g',\n",
       " 'sugars_100g',\n",
       " 'fiber_100g',\n",
       " 'proteins_100g',\n",
       " 'salt_100g',\n",
       " 'sodium_100g',\n",
       " 'nutrition-score-fr_100g']"
      ]
     },
     "execution_count": 85,
     "metadata": {},
     "output_type": "execute_result"
    }
   ],
   "source": [
    "df.columns.values.tolist()"
   ]
  },
  {
   "cell_type": "code",
   "execution_count": 86,
   "metadata": {
    "scrolled": true
   },
   "outputs": [
    {
     "name": "stdout",
     "output_type": "stream",
     "text": [
      "code : 0.0\n",
      "url : 0.0\n",
      "creator : 0.0\n",
      "created_t : 0.0\n",
      "created_datetime : 0.0\n",
      "last_modified_t : 0.0\n",
      "last_modified_datetime : 0.0\n",
      "product_name : 0.0\n",
      "generic_name : 0.94146\n",
      "quantity : 0.67945\n",
      "packaging : 0.81811\n",
      "packaging_tags : 0.81813\n",
      "brands : 0.0\n",
      "brands_tags : 7e-05\n",
      "categories : 0.47007\n",
      "categories_tags : 0.47007\n",
      "categories_en : 0.47007\n",
      "manufacturing_places : 0.9383\n",
      "manufacturing_places_tags : 0.93833\n",
      "labels : 0.64541\n",
      "labels_tags : 0.64536\n",
      "labels_en : 0.64536\n",
      "emb_codes : 0.91831\n",
      "emb_codes_tags : 0.91831\n",
      "first_packaging_code_geo : 0.9426\n",
      "cities_tags : 0.93766\n",
      "purchase_places : 0.92716\n",
      "stores : 0.80053\n",
      "countries : 0.00052\n",
      "countries_tags : 0.00052\n",
      "countries_en : 0.00052\n",
      "ingredients_text : 0.63837\n",
      "allergens : 0.88927\n",
      "traces : 0.92023\n",
      "traces_tags : 0.88505\n",
      "traces_en : 0.88505\n",
      "serving_size : 0.91391\n",
      "serving_quantity : 0.92162\n",
      "additives_n : 0.63837\n",
      "additives_tags : 0.80989\n",
      "additives_en : 0.80989\n",
      "ingredients_from_palm_oil_n : 0.63837\n",
      "ingredients_that_may_be_from_palm_oil_n : 0.63837\n",
      "nutriscore_score : 0.53503\n",
      "nutriscore_grade : 0.53503\n",
      "nova_group : 0.70733\n",
      "main_category : 0.47007\n",
      "main_category_en : 0.47007\n",
      "image_url : 0.0\n",
      "image_small_url : 0.0\n",
      "image_ingredients_url : 0.37622\n",
      "image_ingredients_small_url : 0.37622\n",
      "image_nutrition_url : 0.35426\n",
      "image_nutrition_small_url : 0.35426\n",
      "energy-kj_100g : 0.92443\n",
      "energy-kcal_100g : 0.09973\n",
      "energy_100g : 0.08102\n",
      "fat_100g : 0.088\n",
      "saturated-fat_100g : 0.08376\n",
      "carbohydrates_100g : 0.08787\n",
      "sugars_100g : 0.08452\n",
      "fiber_100g : 0.78037\n",
      "proteins_100g : 0.08417\n",
      "salt_100g : 0.09979\n",
      "sodium_100g : 0.09979\n",
      "nutrition-score-fr_100g : 0.53503\n"
     ]
    }
   ],
   "source": [
    "t = tuple(zip(df.columns.values.tolist(), ((np.array(df.isna().sum().tolist()) / df.shape[0]) )))\n",
    "t \n",
    "for i in t :\n",
    "    print(f\"{i[0]} : {round(i[1],5)}\")"
   ]
  },
  {
   "cell_type": "markdown",
   "metadata": {},
   "source": [
    "# Partitionnage  de notre data\n"
   ]
  },
  {
   "cell_type": "code",
   "execution_count": 27,
   "metadata": {},
   "outputs": [
    {
     "data": {
      "text/plain": [
       "['code',\n",
       " 'url',\n",
       " 'creator',\n",
       " 'created_t',\n",
       " 'created_datetime',\n",
       " 'last_modified_t',\n",
       " 'last_modified_datetime',\n",
       " 'product_name',\n",
       " 'countries',\n",
       " 'countries_tags',\n",
       " 'countries_en']"
      ]
     },
     "execution_count": 27,
     "metadata": {},
     "output_type": "execute_result"
    }
   ],
   "source": [
    "## Découpe la data a analyser en plusieurs parties\n",
    "## On gardera pour toutes la data remplis auto, qui contient les elements les plus importants a priori\n",
    "## contient code,url ,creator,created_t,created_datetime,last_modified_t,last_modified_datetime,product_name(75461Nan)\n",
    "df_remplis_auto = df.copy()\n",
    "df_remplis_auto = df_remplis_auto.iloc[:, 0:8]    \n",
    "df_remplis_auto['countries'] = df['countries'].copy()              \n",
    "df_remplis_auto['countries_tags'] = df['countries_tags'].copy()\n",
    "df_remplis_auto['countries_en'] = df['countries_en'].copy()\n",
    "df_remplis_auto.columns.values.tolist()"
   ]
  },
  {
   "cell_type": "code",
   "execution_count": 79,
   "metadata": {},
   "outputs": [],
   "source": [
    "#Data remplis auto  + infos liés aux images\n",
    "def remplis_auto(df, df_nouveau,list):\n",
    "    for element in list:\n",
    "        df_nouveau[element] = df[element].copy()\n",
    "        \n",
    "df_url_image = df_remplis_auto.copy()\n",
    "liste_image = ['image_url','image_small_url','image_ingredients_url','image_ingredients_small_url','image_nutrition_url','image_nutrition_small_url',] \n",
    "remplis_auto(df,df_url_image,liste_image)\n",
    "\n",
    "\n"
   ]
  },
  {
   "cell_type": "markdown",
   "metadata": {},
   "source": [
    "# Analyse des possibilités de clustering\n",
    "   par quantity, packaging, packaging_tags, categories, labels, main_category\n"
   ]
  },
  {
   "cell_type": "code",
   "execution_count": 141,
   "metadata": {
    "scrolled": true
   },
   "outputs": [
    {
     "name": "stdout",
     "output_type": "stream",
     "text": [
      "on analyse : packaging_tags avec comme taille : \n",
      "(45581, 66)\n",
      "\n",
      "674350                                                                                            6-100g\n",
      "1582921                                                                                 plastique,carton\n",
      "611522                                      opercule,pot-plastique,fr-pot-en-plastique,fr-etui-en-carton\n",
      "729508     en-green-dot,fr-pensez-au-tri,fr-etui-carton-a-recycler,fr-emballage-en-carton-recycle,carton\n",
      "1439386                                                                              barquette-plastique\n",
      "1335527                                                                                           carton\n",
      "909349                                                                                  sachet,plastique\n",
      "845945                                                                                bouteille-en-verre\n",
      "867415                                        barquette,film,plastique,frais,sous-atmosphere-protectrice\n",
      "783750                                                                                           verrine\n",
      "611256                                              fr-etui-en-carton,fr-pot-en-plastique,etui-en-carton\n",
      "738663                                                                                  sachet,plastique\n",
      "787444                                                                               carton,boite,sachet\n",
      "771938                                                                                  plastique,sachet\n",
      "1361530                                                                                              can\n",
      "1034982                                                                                  frais,plastique\n",
      "735513                                                                                  plastique,sachet\n",
      "818063                                                              brique-tetra-pak,fr-brique-en-carton\n",
      "675220                                                                              boite,carton,surgele\n",
      "821372                                                                               barquette,plastique\n",
      "Name: packaging_tags, dtype: object\n",
      "\n",
      "-------------------------\n",
      "\n",
      "\n",
      "on analyse : packaging avec comme taille : \n",
      "(45584, 66)\n",
      "\n",
      "798554                                                                                      Frais\n",
      "826761                                                                            frais,plastique\n",
      "956780                                                                          bocal,verre,métal\n",
      "480682                                                                           sachet plastique\n",
      "567377                                                                       Plastique recyclable\n",
      "497320                                                                            frais,plastique\n",
      "653036                                                               verre,frais,carton,pot,métal\n",
      "872269                                                                           sachet plastique\n",
      "887221    fr:Etui carton à recycler,fr:Pensez au tri!,fr:Point vert,fr:Surgelé, fr:Etui en carton\n",
      "641936                                                                  frais,barquette,plastique\n",
      "835196                                                                           sachet,plastique\n",
      "608453                                                                             Conserve,Métal\n",
      "782372                                                                                      Frais\n",
      "852682                                                                           Sachet,Plastique\n",
      "811540                                                                                   Conserve\n",
      "681240                                                                             Carton,Surgelé\n",
      "941310                                                                                Verre,bocal\n",
      "734443                                                                            Boîte plastique\n",
      "982528                                                                                  pot verre\n",
      "899382                                                                                 carton,fer\n",
      "Name: packaging, dtype: object\n",
      "\n",
      "-------------------------\n",
      "\n",
      "\n",
      "on analyse : categories avec comme taille : \n",
      "(121654, 66)\n",
      "\n",
      "1576229                                                                                   Graines de tournesol\n",
      "856059                               Surgelés, Pommes de terre préfrites surgelées, Pommes duchesses surgelées\n",
      "821614     Aliments et boissons à base de végétaux, Aliments d'origine végétale, Pickles, Produits de l'oli...\n",
      "712094     Aliments et boissons à base de végétaux, Aliments d'origine végétale, Substituts de viande, Stea...\n",
      "630048                                                          Viandes, Charcuteries, Jambons, Jambons blancs\n",
      "866546     Aliments et boissons à base de végétaux, Aliments d'origine végétale, Epicerie, Condiments, Alim...\n",
      "862486       Desserts, Surgelés, Aliments et boissons de Noël, Desserts glacés, Bûches de Noël, Bûches glacées\n",
      "624046            Produits de la mer, Poissons, Saumons, Poissons fumés, Saumons fumés, Saumons fumés sauvages\n",
      "913208     Aliments et boissons à base de végétaux, Aliments d'origine végétale, Céréales et pommes de terr...\n",
      "1513809    Aliments et boissons à base de végétaux, Aliments d'origine végétale, Aliments à base de fruits ...\n",
      "770525     Aliments et boissons à base de végétaux, Aliments d'origine végétale, Céréales et pommes de terr...\n",
      "1122997                                                            Snacks, Snacks sucrés, Confiseries, Bonbons\n",
      "617292                                                                         Epicerie, Sauces, Sauces tomate\n",
      "935178     Snacks, Snacks sucrés, Confiseries, Confiseries chocolatées, Bonbons de chocolat, Fruits enrobés...\n",
      "891856     Conserves, Produits de la mer, Poissons, Poissons en conserve, Sardines, Sardines en conserve, S...\n",
      "1498983    Aliments et boissons à base de végétaux, Boissons, Boissons à base de végétaux, Substitut du lai...\n",
      "692214                         Sandwichs, en:raw-vegetable-sandwiches, Sandwichs au poisson, Sandwichs au thon\n",
      "62753      Produits laitiers, Desserts, Desserts lactés, Panna cottas, Panna cottas au coulis de fruits, Pa...\n",
      "692767                                   Aliments pour bébé, Plats principaux pour bébé, Petits pots pour bébé\n",
      "1117147    Aliments et boissons à base de végétaux, Aliments d'origine végétale, Aliments à base de fruits ...\n",
      "Name: categories, dtype: object\n",
      "\n",
      "-------------------------\n",
      "\n",
      "\n",
      "on analyse : labels avec comme taille : \n",
      "(86258, 66)\n",
      "\n",
      "471660                                     Bio, Bio européen, FR-BIO-09    \n",
      "693971                                                 Transformé en France\n",
      "907579                                                           en:organic\n",
      "839802                                        Lait Français,Bleu Blanc Cœur\n",
      "566520                                                fr:volaille-francaise\n",
      "799000     Bio,Bio européen,Commerce équitable,Agriculture non UE,FR-BIO-01\n",
      "687284                                                   Fabriqué en France\n",
      "887206      French meat, fr:Viande Bovine Française , en:nutriscore-grade-b\n",
      "913143         No colorings, fr:Fabriqué en Gourmandie, en:no-preservatives\n",
      "901738                         No added sugar, fr:ab-agriculture-biologique\n",
      "913685                                                Organic, en:gb-org-05\n",
      "884371                                              Nutriscore,Nutriscore C\n",
      "626841                               No colorings, en:no-artificial-flavors\n",
      "896619                                   Organic, EU Organic , en:nl-bio-01\n",
      "857408                           Bio,Bio européen,AB Agriculture Biologique\n",
      "1407215        Organic, EU Organic, fr:ab-agriculture-biologique , en:vegan\n",
      "746566                                          No colorings, en:no-flavors\n",
      "638088                                                Organic, en:fr-bio-01\n",
      "582773                                           fr:viande-bovine-francaise\n",
      "774393                                Organic, fr:ab-agriculture-biologique\n",
      "Name: labels, dtype: object\n",
      "\n",
      "-------------------------\n",
      "\n",
      "\n"
     ]
    },
    {
     "name": "stdout",
     "output_type": "stream",
     "text": [
      "on analyse : main_category avec comme taille : \n",
      "(121654, 66)\n",
      "\n",
      "837993                          en:rosehip-jams\n",
      "164642                                en:sauces\n",
      "866474                   en:blue-veined-cheeses\n",
      "642575     en:mackerel-fillets-in-mustard-sauce\n",
      "982640                fr:saucissons-au-beaufort\n",
      "670207                    en:chocolate-biscuits\n",
      "907376                             en:beverages\n",
      "1013181                           en:margarines\n",
      "743618                  en:grapefruits-in-syrup\n",
      "689602                     fr:brioches-tressees\n",
      "1310449                       en:filled-cereals\n",
      "500757                     en:chocolate-cereals\n",
      "723124                         en:shrimps-tails\n",
      "1228311                                en:milks\n",
      "1586888                              en:coffees\n",
      "692740                   fr:produits-asiatiques\n",
      "884663                        en:veggie-patties\n",
      "948058                  en:christmas-chocolates\n",
      "839756                         es:rulo-de-cabra\n",
      "855167                         en:grated-cheese\n",
      "Name: main_category, dtype: object\n",
      "\n",
      "-------------------------\n",
      "\n",
      "\n"
     ]
    }
   ],
   "source": [
    "def test_cluster(df,strng):\n",
    "    df_test = df.copy()\n",
    "    df_test.dropna(inplace=True, subset=[strng])\n",
    "    df_test \n",
    "    print('on analyse : ' + strng + \" avec comme taille : \" )\n",
    "    print(df_test.shape)\n",
    "    print()\n",
    "    print(df_test[strng].sample(20))\n",
    "    print()\n",
    "    print(\"-------------------------\" )\n",
    "    print()\n",
    "    print()\n",
    "\n",
    "test_cluster(df, 'packaging_tags')\n",
    "test_cluster(df, 'packaging')\n",
    "test_cluster(df, 'categories')\n",
    "test_cluster(df, 'labels')\n",
    "test_cluster(df, 'main_category')"
   ]
  },
  {
   "cell_type": "markdown",
   "metadata": {},
   "source": [
    "# Cluster addition de quantity"
   ]
  },
  {
   "cell_type": "code",
   "execution_count": 134,
   "metadata": {},
   "outputs": [
    {
     "data": {
      "text/plain": [
       "(75338, 66)"
      ]
     },
     "execution_count": 134,
     "metadata": {},
     "output_type": "execute_result"
    }
   ],
   "source": [
    "df4 = df.copy()\n",
    "df4.dropna(inplace=True, subset=['quantity'])\n",
    "\n",
    "pd.options.display.max_colwidth = 100\n",
    "df4.shape\n"
   ]
  },
  {
   "cell_type": "code",
   "execution_count": 209,
   "metadata": {
    "scrolled": true
   },
   "outputs": [
    {
     "data": {
      "text/plain": [
       "568098                                            http://world-en.openfoodfacts.org/product/26001548/pur-fruit\n",
       "917377       http://world-en.openfoodfacts.org/product/3700864003151/l-oeuf-de-nos-villages-terroir-d-eleveurs\n",
       "612859                       http://world-en.openfoodfacts.org/product/3029330069959/tartine-p-tit-dej-jacquet\n",
       "866680               http://world-en.openfoodfacts.org/product/3564707135931/boisson-cranberry-bio-bio-village\n",
       "1166066                      http://world-en.openfoodfacts.org/product/5099839643170/cheese-coleslaw-supervalu\n",
       "780360     http://world-en.openfoodfacts.org/product/3366321054212/st-hubert-41-sans-huile-de-palme-sel-de-mer\n",
       "933702             http://world-en.openfoodfacts.org/product/3760048330268/olives-noires-denoyautees-montperal\n",
       "491275     http://world-en.openfoodfacts.org/product/20568702/country-cookies-biscuit-sables-avec-chocolat-...\n",
       "884478      http://world-en.openfoodfacts.org/product/3596710462087/farfalles-sauce-tomate-et-boulettes-auchan\n",
       "1149444           http://world-en.openfoodfacts.org/product/5055534320099/sucralose-unflavoured-100g-myprotein\n",
       "1579902                    http://world-en.openfoodfacts.org/product/8697418143959/raisins-sultanines-rapunzel\n",
       "876623                        http://world-en.openfoodfacts.org/product/3592860018020/cornichons-fins-bornibus\n",
       "810189                  http://world-en.openfoodfacts.org/product/3439495101959/sauce-tomate-provencale-horeca\n",
       "493141                                               http://world-en.openfoodfacts.org/product/20655259/riniel\n",
       "884137                               http://world-en.openfoodfacts.org/product/3596710457144/mayonnaise-auchan\n",
       "497047                       http://world-en.openfoodfacts.org/product/20823320/panna-cotta-al-lampone-milbona\n",
       "767166     http://world-en.openfoodfacts.org/product/3339332500153/marguerite-de-turenne-veloute-de-tomates...\n",
       "721669     http://world-en.openfoodfacts.org/product/3268260000551/rillettes-de-thon-aux-fines-herbes-conse...\n",
       "613774     http://world-en.openfoodfacts.org/product/3033491136375/activia-saveur-citron-4x125g-prix-choc-d...\n",
       "865765                                http://world-en.openfoodfacts.org/product/3564706614819/cereales-leclerc\n",
       "Name: url, dtype: object"
      ]
     },
     "execution_count": 209,
     "metadata": {},
     "output_type": "execute_result"
    }
   ],
   "source": [
    "df4['url'].sample(20)"
   ]
  },
  {
   "cell_type": "markdown",
   "metadata": {},
   "source": [
    "# Analyse du cluster marque"
   ]
  },
  {
   "cell_type": "code",
   "execution_count": 225,
   "metadata": {},
   "outputs": [
    {
     "data": {
      "text/plain": [
       "(215700, 66)"
      ]
     },
     "execution_count": 225,
     "metadata": {},
     "output_type": "execute_result"
    }
   ],
   "source": [
    "df_marque = df.copy()\n",
    "df_marque.shape\n"
   ]
  },
  {
   "cell_type": "code",
   "execution_count": 226,
   "metadata": {},
   "outputs": [
    {
     "data": {
      "text/plain": [
       "brands_tags\n",
       "auchan              6223\n",
       "carrefour           4393\n",
       "u                   2696\n",
       "casino              2461\n",
       "leader-price        2165\n",
       "                    ... \n",
       "lidl,liddl             1\n",
       "lidl,lord-nelson       1\n",
       "lidl,mcennedy          1\n",
       "lidl,orlando           1\n",
       "0-sauce                1\n",
       "Name: count, Length: 27914, dtype: int64"
      ]
     },
     "execution_count": 226,
     "metadata": {},
     "output_type": "execute_result"
    }
   ],
   "source": [
    "df_marque['count'] = 1 \n",
    "df_marque = df_marque.groupby(['brands_tags']).count()['count']\n",
    "df_marque.sort_values(ascending=False)"
   ]
  },
  {
   "cell_type": "code",
   "execution_count": 227,
   "metadata": {},
   "outputs": [
    {
     "data": {
      "text/plain": [
       "(27914,)"
      ]
     },
     "execution_count": 227,
     "metadata": {},
     "output_type": "execute_result"
    }
   ],
   "source": [
    "df_marque.shape"
   ]
  },
  {
   "cell_type": "code",
   "execution_count": 228,
   "metadata": {},
   "outputs": [
    {
     "data": {
      "text/plain": [
       "brands_tags\n",
       "auchan              6223\n",
       "carrefour           4393\n",
       "u                   2696\n",
       "casino              2461\n",
       "leader-price        2165\n",
       "                    ... \n",
       "lidl,liddl             1\n",
       "lidl,lord-nelson       1\n",
       "lidl,mcennedy          1\n",
       "lidl,orlando           1\n",
       "0-sauce                1\n",
       "Name: count, Length: 27914, dtype: int64"
      ]
     },
     "execution_count": 228,
     "metadata": {},
     "output_type": "execute_result"
    }
   ],
   "source": [
    "df_marque = df_marque.sort_values(ascending=False)\n",
    "df_marque.iloc[0:6000]  #nombre d 'occurence > 4\n",
    "df_marque"
   ]
  },
  {
   "cell_type": "code",
   "execution_count": 166,
   "metadata": {},
   "outputs": [
    {
     "ename": "AttributeError",
     "evalue": "'Series' object has no attribute 'delete'",
     "output_type": "error",
     "traceback": [
      "\u001b[1;31m---------------------------------------------------------------------------\u001b[0m",
      "\u001b[1;31mAttributeError\u001b[0m                            Traceback (most recent call last)",
      "\u001b[1;32m<ipython-input-166-39aa2907f26c>\u001b[0m in \u001b[0;36m<module>\u001b[1;34m\u001b[0m\n\u001b[1;32m----> 1\u001b[1;33m \u001b[0mdf_marque\u001b[0m \u001b[1;33m=\u001b[0m \u001b[0mdf_marque\u001b[0m\u001b[1;33m.\u001b[0m\u001b[0mdelete\u001b[0m\u001b[1;33m(\u001b[0m\u001b[0mdf_marque\u001b[0m\u001b[1;33m[\u001b[0m\u001b[0mdf_marque\u001b[0m\u001b[1;33m[\u001b[0m\u001b[1;36m1\u001b[0m\u001b[1;33m]\u001b[0m \u001b[1;33m<\u001b[0m \u001b[1;36m5\u001b[0m\u001b[1;33m]\u001b[0m\u001b[1;33m.\u001b[0m\u001b[0mindex\u001b[0m\u001b[1;33m)\u001b[0m\u001b[1;33m\u001b[0m\u001b[1;33m\u001b[0m\u001b[0m\n\u001b[0m",
      "\u001b[1;32mC:\\ProgramData\\Anaconda3\\lib\\site-packages\\pandas\\core\\generic.py\u001b[0m in \u001b[0;36m__getattr__\u001b[1;34m(self, name)\u001b[0m\n\u001b[0;32m   5272\u001b[0m             \u001b[1;32mif\u001b[0m \u001b[0mself\u001b[0m\u001b[1;33m.\u001b[0m\u001b[0m_info_axis\u001b[0m\u001b[1;33m.\u001b[0m\u001b[0m_can_hold_identifiers_and_holds_name\u001b[0m\u001b[1;33m(\u001b[0m\u001b[0mname\u001b[0m\u001b[1;33m)\u001b[0m\u001b[1;33m:\u001b[0m\u001b[1;33m\u001b[0m\u001b[1;33m\u001b[0m\u001b[0m\n\u001b[0;32m   5273\u001b[0m                 \u001b[1;32mreturn\u001b[0m \u001b[0mself\u001b[0m\u001b[1;33m[\u001b[0m\u001b[0mname\u001b[0m\u001b[1;33m]\u001b[0m\u001b[1;33m\u001b[0m\u001b[1;33m\u001b[0m\u001b[0m\n\u001b[1;32m-> 5274\u001b[1;33m             \u001b[1;32mreturn\u001b[0m \u001b[0mobject\u001b[0m\u001b[1;33m.\u001b[0m\u001b[0m__getattribute__\u001b[0m\u001b[1;33m(\u001b[0m\u001b[0mself\u001b[0m\u001b[1;33m,\u001b[0m \u001b[0mname\u001b[0m\u001b[1;33m)\u001b[0m\u001b[1;33m\u001b[0m\u001b[1;33m\u001b[0m\u001b[0m\n\u001b[0m\u001b[0;32m   5275\u001b[0m \u001b[1;33m\u001b[0m\u001b[0m\n\u001b[0;32m   5276\u001b[0m     \u001b[1;32mdef\u001b[0m \u001b[0m__setattr__\u001b[0m\u001b[1;33m(\u001b[0m\u001b[0mself\u001b[0m\u001b[1;33m,\u001b[0m \u001b[0mname\u001b[0m\u001b[1;33m:\u001b[0m \u001b[0mstr\u001b[0m\u001b[1;33m,\u001b[0m \u001b[0mvalue\u001b[0m\u001b[1;33m)\u001b[0m \u001b[1;33m->\u001b[0m \u001b[1;32mNone\u001b[0m\u001b[1;33m:\u001b[0m\u001b[1;33m\u001b[0m\u001b[1;33m\u001b[0m\u001b[0m\n",
      "\u001b[1;31mAttributeError\u001b[0m: 'Series' object has no attribute 'delete'"
     ]
    }
   ],
   "source": [
    "#df_marque = df_marque.d(df_marque[df_marque[1] < 5].index)"
   ]
  },
  {
   "cell_type": "code",
   "execution_count": 171,
   "metadata": {},
   "outputs": [
    {
     "ename": "IndexError",
     "evalue": "invalid index to scalar variable.",
     "output_type": "error",
     "traceback": [
      "\u001b[1;31m---------------------------------------------------------------------------\u001b[0m",
      "\u001b[1;31mIndexError\u001b[0m                                Traceback (most recent call last)",
      "\u001b[1;32m<ipython-input-171-26284a48d621>\u001b[0m in \u001b[0;36m<module>\u001b[1;34m\u001b[0m\n\u001b[1;32m----> 1\u001b[1;33m \u001b[0mdf_marque\u001b[0m \u001b[1;33m=\u001b[0m \u001b[0mdf_marque\u001b[0m\u001b[1;33m[\u001b[0m\u001b[0mdf_marque\u001b[0m\u001b[1;33m[\u001b[0m\u001b[1;34m\"brands_tags\"\u001b[0m\u001b[1;33m]\u001b[0m \u001b[1;33m>\u001b[0m \u001b[1;36m5\u001b[0m\u001b[1;33m]\u001b[0m\u001b[1;33m\u001b[0m\u001b[1;33m\u001b[0m\u001b[0m\n\u001b[0m",
      "\u001b[1;31mIndexError\u001b[0m: invalid index to scalar variable."
     ]
    }
   ],
   "source": [
    "df_marque = df_marque[df_marque[] > 5]"
   ]
  },
  {
   "cell_type": "code",
   "execution_count": 170,
   "metadata": {},
   "outputs": [
    {
     "data": {
      "text/plain": [
       "1"
      ]
     },
     "execution_count": 170,
     "metadata": {},
     "output_type": "execute_result"
    }
   ],
   "source": [
    "df_marque"
   ]
  },
  {
   "cell_type": "code",
   "execution_count": 208,
   "metadata": {},
   "outputs": [],
   "source": [
    "df_url_image.to_csv('openfoodfacts.data_url_image_final.csv')"
   ]
  },
  {
   "cell_type": "code",
   "execution_count": null,
   "metadata": {},
   "outputs": [],
   "source": []
  }
 ],
 "metadata": {
  "kernelspec": {
   "display_name": "Python 3",
   "language": "python",
   "name": "python3"
  },
  "language_info": {
   "codemirror_mode": {
    "name": "ipython",
    "version": 3
   },
   "file_extension": ".py",
   "mimetype": "text/x-python",
   "name": "python",
   "nbconvert_exporter": "python",
   "pygments_lexer": "ipython3",
   "version": "3.8.3"
  }
 },
 "nbformat": 4,
 "nbformat_minor": 4
}
